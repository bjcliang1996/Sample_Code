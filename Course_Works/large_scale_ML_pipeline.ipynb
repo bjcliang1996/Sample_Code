{
 "cells": [
  {
   "cell_type": "markdown",
   "metadata": {},
   "source": [
    "## Assignment 3\n",
    "Chen Liang"
   ]
  },
  {
   "cell_type": "code",
   "execution_count": 2,
   "metadata": {},
   "outputs": [
    {
     "data": {
      "application/vnd.jupyter.widget-view+json": {
       "model_id": "e43a905323134514a3f99fc40d618374",
       "version_major": 2,
       "version_minor": 0
      },
      "text/plain": [
       "VBox()"
      ]
     },
     "metadata": {},
     "output_type": "display_data"
    },
    {
     "data": {
      "application/vnd.jupyter.widget-view+json": {
       "model_id": "",
       "version_major": 2,
       "version_minor": 0
      },
      "text/plain": [
       "FloatProgress(value=0.0, bar_style='info', description='Progress:', layout=Layout(height='25px', width='50%'),…"
      ]
     },
     "metadata": {},
     "output_type": "display_data"
    }
   ],
   "source": [
    "#sc.install_pypi_package(\"seaborn\")\n",
    "#sc.install_pypi_package(\"pandas\")\n",
    "from pyspark.sql.functions import col, size, length, split\n",
    "import seaborn as sns\n",
    "import matplotlib.pyplot as plt"
   ]
  },
  {
   "cell_type": "code",
   "execution_count": 3,
   "metadata": {},
   "outputs": [
    {
     "data": {
      "application/vnd.jupyter.widget-view+json": {
       "model_id": "c88ca6ca9cc54c2b9d93453c665a1bed",
       "version_major": 2,
       "version_minor": 0
      },
      "text/plain": [
       "VBox()"
      ]
     },
     "metadata": {},
     "output_type": "display_data"
    },
    {
     "data": {
      "application/vnd.jupyter.widget-view+json": {
       "model_id": "",
       "version_major": 2,
       "version_minor": 0
      },
      "text/plain": [
       "FloatProgress(value=0.0, bar_style='info', description='Progress:', layout=Layout(height='25px', width='50%'),…"
      ]
     },
     "metadata": {},
     "output_type": "display_data"
    },
    {
     "name": "stdout",
     "output_type": "stream",
     "text": [
      "Total Columns: 15\n",
      "Total Rows: 20726160"
     ]
    }
   ],
   "source": [
    "data = spark.read.parquet('s3://amazon-reviews-pds/parquet/product_category=Books/*.parquet')\n",
    "print('Total Columns: %d' % len(data.dtypes))\n",
    "print('Total Rows: %d' % data.count())"
   ]
  },
  {
   "cell_type": "markdown",
   "metadata": {},
   "source": [
    "## 1. Feature Engineering\n",
    "In Lab6, we only used `total_votes` for the logistic regression model, where `y = star_rating >= 4`. In my model, I am going to add 4 more variables: `helpful_votes`, `reveiw_length`, `is_vine`, and `is_purchase`. The latter two are categorical features."
   ]
  },
  {
   "cell_type": "code",
   "execution_count": null,
   "metadata": {},
   "outputs": [],
   "source": [
    "from pyspark.ml.feature import Tokenizer, StopWordsRemover, HashingTF, IDF\n",
    "from pyspark.ml import Pipeline\n",
    "tokenizer = Tokenizer(inputCol='review_body', outputCol='text')\n",
    "remover = StopWordsRemover(inputCol=tokenizer.getOutputCol(), outputCol='terms')\n",
    "hasher = HashingTF(inputCol=remover.getOutputCol(), outputCol=\"hash\")\n",
    "idf = IDF(inputCol=hasher.getOutputCol(), outputCol=\"review_features\")\n",
    "pipeline = Pipeline(stages=[tokenizer, remover, hasher, idf])\n",
    "## for training, I actually only used length(terms), because it takes too much\n",
    "## time to train with idf.\n",
    "data = data.na.drop()\n",
    "data = pipeline.fit(data).transform(data)"
   ]
  },
  {
   "cell_type": "code",
   "execution_count": 4,
   "metadata": {},
   "outputs": [
    {
     "data": {
      "application/vnd.jupyter.widget-view+json": {
       "model_id": "e00e191c75e141a6928b0d5bf774b427",
       "version_major": 2,
       "version_minor": 0
      },
      "text/plain": [
       "VBox()"
      ]
     },
     "metadata": {},
     "output_type": "display_data"
    },
    {
     "data": {
      "application/vnd.jupyter.widget-view+json": {
       "model_id": "",
       "version_major": 2,
       "version_minor": 0
      },
      "text/plain": [
       "FloatProgress(value=0.0, bar_style='info', description='Progress:', layout=Layout(height='25px', width='50%'),…"
      ]
     },
     "metadata": {},
     "output_type": "display_data"
    }
   ],
   "source": [
    "## Engineer the feature for use\n",
    "data = data.withColumn('good_review', (data.star_rating >= 4).cast(\"integer\"))\n",
    "data = data.withColumn('helpful_votes', (data.helpful_votes).cast(\"integer\"))\n",
    "data = data.withColumn('total_votes', (data.total_votes).cast(\"integer\"))\n",
    "data = data.withColumn('review_length', (size('terms').cast(\"integer\")))\n",
    "## one feature derived from text data\n",
    "data = data.withColumn('is_vine', (data.vine == \"Y\").cast('integer'))\n",
    "data = data.withColumn('is_purchase', (data.verified_purchase == \"Y\").cast('integer')) "
   ]
  },
  {
   "cell_type": "code",
   "execution_count": 5,
   "metadata": {},
   "outputs": [
    {
     "data": {
      "application/vnd.jupyter.widget-view+json": {
       "model_id": "460d4b7b5d54498f81955efeef2591eb",
       "version_major": 2,
       "version_minor": 0
      },
      "text/plain": [
       "VBox()"
      ]
     },
     "metadata": {},
     "output_type": "display_data"
    },
    {
     "data": {
      "application/vnd.jupyter.widget-view+json": {
       "model_id": "",
       "version_major": 2,
       "version_minor": 0
      },
      "text/plain": [
       "FloatProgress(value=0.0, bar_style='info', description='Progress:', layout=Layout(height='25px', width='50%'),…"
      ]
     },
     "metadata": {},
     "output_type": "display_data"
    },
    {
     "name": "stdout",
     "output_type": "stream",
     "text": [
      "root\n",
      " |-- good_review: integer (nullable = true)\n",
      " |-- helpful_votes: integer (nullable = true)\n",
      " |-- total_votes: integer (nullable = true)\n",
      " |-- review_length: integer (nullable = false)\n",
      " |-- is_vine: integer (nullable = true)\n",
      " |-- is_purchase: integer (nullable = true)"
     ]
    }
   ],
   "source": [
    "data = data.select(['good_review', 'helpful_votes', 'total_votes', 'review_length',\n",
    "                    'is_vine', 'is_purchase'])\n",
    "data.printSchema()"
   ]
  },
  {
   "cell_type": "markdown",
   "metadata": {},
   "source": [
    "### Helpful and Total Votes\n",
    "As shown in the boxplots below, helpful and total votes are strong indicators of star ratings. People tend to believe that extremely bad (star=1) reviews are the most helpful votes."
   ]
  },
  {
   "cell_type": "code",
   "execution_count": 5,
   "metadata": {},
   "outputs": [
    {
     "data": {
      "application/vnd.jupyter.widget-view+json": {
       "model_id": "c03348ab67434377ae2752eea68b82e2",
       "version_major": 2,
       "version_minor": 0
      },
      "text/plain": [
       "VBox()"
      ]
     },
     "metadata": {},
     "output_type": "display_data"
    },
    {
     "data": {
      "application/vnd.jupyter.widget-view+json": {
       "model_id": "",
       "version_major": 2,
       "version_minor": 0
      },
      "text/plain": [
       "FloatProgress(value=0.0, bar_style='info', description='Progress:', layout=Layout(height='25px', width='50%'),…"
      ]
     },
     "metadata": {},
     "output_type": "display_data"
    },
    {
     "data": {
      "image/png": "[encoded data removed]",
      "text/plain": [
       "<IPython.core.display.Image object>"
      ]
     },
     "metadata": {},
     "output_type": "display_data"
    }
   ],
   "source": [
    "votes_avg = (data.groupBy('star_rating')\n",
    "                 .mean('helpful_votes', 'total_votes')\n",
    "                 .sort('star_rating', ascending=False)\n",
    "                ) \n",
    "df = votes_avg.toPandas()\n",
    "plt.close(); fig, (ax1, ax2) = plt.subplots(2)\n",
    "fig.suptitle('Bar Plots for Helpful and Total Votes')\n",
    "sns.barplot(x='star_rating', y=\"avg(helpful_votes)\", data=df, ax=ax1)\n",
    "sns.barplot(x='star_rating', y=\"avg(total_votes)\", data=df, ax=ax2)\n",
    "ax1.set_xticks([]); ax1.set_xlabel(None); plt.show()\n",
    "%matplot plt"
   ]
  },
  {
   "cell_type": "markdown",
   "metadata": {},
   "source": [
    "### Review Length\n",
    "As shwon in the graph below, it seems that there is a non-linear correlation between the length of a review and its corresponding star rating. Those who are most satisfied (rating = 5) with the product tend to write less in the review--and therefore might be useful as a predictor. However, the length difference in ratings are not salient. "
   ]
  },
  {
   "cell_type": "code",
   "execution_count": 5,
   "metadata": {},
   "outputs": [
    {
     "data": {
      "application/vnd.jupyter.widget-view+json": {
       "model_id": "0b5077f2effa453285bc1ca0f0ebad96",
       "version_major": 2,
       "version_minor": 0
      },
      "text/plain": [
       "VBox()"
      ]
     },
     "metadata": {},
     "output_type": "display_data"
    },
    {
     "data": {
      "application/vnd.jupyter.widget-view+json": {
       "model_id": "",
       "version_major": 2,
       "version_minor": 0
      },
      "text/plain": [
       "FloatProgress(value=0.0, bar_style='info', description='Progress:', layout=Layout(height='25px', width='50%'),…"
      ]
     },
     "metadata": {},
     "output_type": "display_data"
    },
    {
     "data": {
      "image/png": "[encoded data removed]",
      "text/plain": [
       "<IPython.core.display.Image object>"
      ]
     },
     "metadata": {},
     "output_type": "display_data"
    }
   ],
   "source": [
    "review_length = (data.groupBy('star_rating')\n",
    "                 .mean('review_length')\n",
    "                 .sort('star_rating', ascending=False)\n",
    "                )\n",
    "df = review_length.toPandas()\n",
    "\n",
    "plt.close()\n",
    "sns.barplot(x='star_rating', y=\"avg(review_length)\", data=df)\n",
    "%matplot plt"
   ]
  },
  {
   "cell_type": "code",
   "execution_count": 8,
   "metadata": {},
   "outputs": [
    {
     "data": {
      "application/vnd.jupyter.widget-view+json": {
       "model_id": "6b662c922a024d66a66c9792abbac171",
       "version_major": 2,
       "version_minor": 0
      },
      "text/plain": [
       "VBox()"
      ]
     },
     "metadata": {},
     "output_type": "display_data"
    },
    {
     "data": {
      "application/vnd.jupyter.widget-view+json": {
       "model_id": "",
       "version_major": 2,
       "version_minor": 0
      },
      "text/plain": [
       "FloatProgress(value=0.0, bar_style='info', description='Progress:', layout=Layout(height='25px', width='50%'),…"
      ]
     },
     "metadata": {},
     "output_type": "display_data"
    },
    {
     "data": {
      "image/png": "[encoded data removed]",
      "text/plain": [
       "<IPython.core.display.Image object>"
      ]
     },
     "metadata": {},
     "output_type": "display_data"
    }
   ],
   "source": [
    "plt.close()\n",
    "sampled_df = data.sample(fraction=0.0001).toPandas()\n",
    "sampled_df.boxplot(column=['review_length'], by=['star_rating'], grid = False)\n",
    "plt.ylabel('Review Length'); plt.xlabel('Star Rating')\n",
    "plt.title('')\n",
    "%matplot plt"
   ]
  },
  {
   "cell_type": "markdown",
   "metadata": {},
   "source": [
    "### Vine and Purchase\n",
    "\n",
    "\"The Amazon Vine Program is a review incentive initiative that employs a hand-picked group of reviewers through Amazon’s platform to review new products. The product can be ordered by a group of pre-selected reviewers (called Vine Voices) who give an honest review of the product. In exchange for the review, they receive the product for free.\" https://www.repricerexpress.com/amazon-vine-program/\n",
    "\n",
    "Apparently, those pre-selected reviewers tend to be more neutral in their reviews, or other people have less motivation to post a review when they do not have a strong opinion on the product. Also, those who did purchase a product tend to have a slightly higher rating on the product. Because of these differences, is_vine and is_purchase can be nice predictors.\n"
   ]
  },
  {
   "cell_type": "code",
   "execution_count": 82,
   "metadata": {},
   "outputs": [
    {
     "data": {
      "application/vnd.jupyter.widget-view+json": {
       "model_id": "2ab5a9052f4c4b1fa220bbaa485dcaef",
       "version_major": 2,
       "version_minor": 0
      },
      "text/plain": [
       "VBox()"
      ]
     },
     "metadata": {},
     "output_type": "display_data"
    },
    {
     "data": {
      "application/vnd.jupyter.widget-view+json": {
       "model_id": "",
       "version_major": 2,
       "version_minor": 0
      },
      "text/plain": [
       "FloatProgress(value=0.0, bar_style='info', description='Progress:', layout=Layout(height='25px', width='50%'),…"
      ]
     },
     "metadata": {},
     "output_type": "display_data"
    },
    {
     "data": {
      "image/png": "[encoded data removed]",
      "text/plain": [
       "<IPython.core.display.Image object>"
      ]
     },
     "metadata": {},
     "output_type": "display_data"
    }
   ],
   "source": [
    "vine_purchase = (data.groupBy('star_rating')\n",
    "                 .mean('is_vine', 'is_purchase')\n",
    "                 .sort('star_rating', ascending=False)\n",
    "                )\n",
    "df = vine_purchase.toPandas()\n",
    "\n",
    "plt.close(); fig, (ax1, ax2) = plt.subplots(2)\n",
    "fig.suptitle('Bar Plots for is_vine and is_purchase')\n",
    "sns.barplot(x='star_rating', y=\"avg(is_vine)\", data=df, ax=ax1)\n",
    "sns.barplot(x='star_rating', y=\"avg(is_purchase)\", data=df, ax=ax2)\n",
    "ax1.set_xticks([]); ax1.set_xlabel(None); plt.show()\n",
    "%matplot plt"
   ]
  },
  {
   "cell_type": "markdown",
   "metadata": {},
   "source": [
    "## 2. Balancing Data"
   ]
  },
  {
   "cell_type": "code",
   "execution_count": 17,
   "metadata": {},
   "outputs": [
    {
     "data": {
      "application/vnd.jupyter.widget-view+json": {
       "model_id": "4a7336c055354a2885af5f1d054f0c8b",
       "version_major": 2,
       "version_minor": 0
      },
      "text/plain": [
       "VBox()"
      ]
     },
     "metadata": {},
     "output_type": "display_data"
    },
    {
     "data": {
      "application/vnd.jupyter.widget-view+json": {
       "model_id": "",
       "version_major": 2,
       "version_minor": 0
      },
      "text/plain": [
       "FloatProgress(value=0.0, bar_style='info', description='Progress:', layout=Layout(height='25px', width='50%'),…"
      ]
     },
     "metadata": {},
     "output_type": "display_data"
    },
    {
     "name": "stdout",
     "output_type": "stream",
     "text": [
      "10360985 10365175\n",
      "+-----------+-------+\n",
      "|good_review|  count|\n",
      "+-----------+-------+\n",
      "|          0|1757205|\n",
      "|          1|8603780|\n",
      "+-----------+-------+"
     ]
    }
   ],
   "source": [
    "train, test = data.randomSplit([0.5, 0.5], seed = 23)\n",
    "print(train.count(), test.count())\n",
    "train.groupBy(\"good_review\").count().orderBy(\"good_review\").show()"
   ]
  },
  {
   "cell_type": "code",
   "execution_count": 7,
   "metadata": {},
   "outputs": [
    {
     "data": {
      "application/vnd.jupyter.widget-view+json": {
       "model_id": "2e286da5c5254900a0f39299239354cd",
       "version_major": 2,
       "version_minor": 0
      },
      "text/plain": [
       "VBox()"
      ]
     },
     "metadata": {},
     "output_type": "display_data"
    },
    {
     "data": {
      "application/vnd.jupyter.widget-view+json": {
       "model_id": "",
       "version_major": 2,
       "version_minor": 0
      },
      "text/plain": [
       "FloatProgress(value=0.0, bar_style='info', description='Progress:', layout=Layout(height='25px', width='50%'),…"
      ]
     },
     "metadata": {},
     "output_type": "display_data"
    },
    {
     "name": "stdout",
     "output_type": "stream",
     "text": [
      "+-----------+-------+\n",
      "|good_review|  count|\n",
      "+-----------+-------+\n",
      "|          0|2461765|\n",
      "|          1|2461662|\n",
      "+-----------+-------+"
     ]
    }
   ],
   "source": [
    "a0 = 2461765; a1 = 12047374\n",
    "sampled_train = train.sampleBy(\"good_review\", fractions={0: 1, 1: a0/a1}, seed=0)\n",
    "sampled_train.groupBy(\"good_review\").count().orderBy(\"good_review\").show()"
   ]
  },
  {
   "cell_type": "markdown",
   "metadata": {},
   "source": [
    "## 3. Implementing a Reproducible Machine Learning Pipeline"
   ]
  },
  {
   "cell_type": "code",
   "execution_count": 8,
   "metadata": {},
   "outputs": [
    {
     "data": {
      "application/vnd.jupyter.widget-view+json": {
       "model_id": "548d7caffa464024b497846577639f45",
       "version_major": 2,
       "version_minor": 0
      },
      "text/plain": [
       "VBox()"
      ]
     },
     "metadata": {},
     "output_type": "display_data"
    },
    {
     "data": {
      "application/vnd.jupyter.widget-view+json": {
       "model_id": "",
       "version_major": 2,
       "version_minor": 0
      },
      "text/plain": [
       "FloatProgress(value=0.0, bar_style='info', description='Progress:', layout=Layout(height='25px', width='50%'),…"
      ]
     },
     "metadata": {},
     "output_type": "display_data"
    }
   ],
   "source": [
    "from pyspark.ml.feature import VectorAssembler\n",
    "from pyspark.ml.classification import LogisticRegression\n",
    "from pyspark.ml import Pipeline\n",
    "import numpy as np\n",
    "from pyspark.ml.tuning import CrossValidator, ParamGridBuilder\n",
    "from pyspark.ml.evaluation import BinaryClassificationEvaluator"
   ]
  },
  {
   "cell_type": "code",
   "execution_count": 9,
   "metadata": {},
   "outputs": [
    {
     "data": {
      "application/vnd.jupyter.widget-view+json": {
       "model_id": "c442151218b64953845cad8c5ad17de7",
       "version_major": 2,
       "version_minor": 0
      },
      "text/plain": [
       "VBox()"
      ]
     },
     "metadata": {},
     "output_type": "display_data"
    },
    {
     "data": {
      "application/vnd.jupyter.widget-view+json": {
       "model_id": "",
       "version_major": 2,
       "version_minor": 0
      },
      "text/plain": [
       "FloatProgress(value=0.0, bar_style='info', description='Progress:', layout=Layout(height='25px', width='50%'),…"
      ]
     },
     "metadata": {},
     "output_type": "display_data"
    }
   ],
   "source": [
    "features = ['helpful_votes', 'total_votes', \n",
    "            'review_length', 'is_vine', 'is_purchase']\n",
    "assembler = VectorAssembler(inputCols = features, outputCol = 'features')\n",
    "regression = LogisticRegression(featuresCol='features', labelCol='good_review')\n",
    "pipeline = Pipeline(stages = [assembler, regression])"
   ]
  },
  {
   "cell_type": "code",
   "execution_count": 16,
   "metadata": {},
   "outputs": [
    {
     "data": {
      "application/vnd.jupyter.widget-view+json": {
       "model_id": "04bbd0ef39ee48869d83ec5aecf29e21",
       "version_major": 2,
       "version_minor": 0
      },
      "text/plain": [
       "VBox()"
      ]
     },
     "metadata": {},
     "output_type": "display_data"
    },
    {
     "data": {
      "application/vnd.jupyter.widget-view+json": {
       "model_id": "",
       "version_major": 2,
       "version_minor": 0
      },
      "text/plain": [
       "FloatProgress(value=0.0, bar_style='info', description='Progress:', layout=Layout(height='25px', width='50%'),…"
      ]
     },
     "metadata": {},
     "output_type": "display_data"
    }
   ],
   "source": [
    "params = ParamGridBuilder()\n",
    "params = params.addGrid(regression.regParam,  np.arange(0, .1, 0.01))\n",
    "params = params.addGrid(regression.elasticNetParam, [0, 1])\n",
    "params = params.build()\n",
    "evaluator = BinaryClassificationEvaluator().setLabelCol('good_review')\n",
    "cv = CrossValidator(estimator = pipeline,\n",
    "                    estimatorParamMaps = params,\n",
    "                    evaluator = evaluator,\n",
    "                    numFolds = 5, seed = 13)"
   ]
  },
  {
   "cell_type": "markdown",
   "metadata": {},
   "source": [
    "So far, we haven't yet started to run the models. That is, the dataframe is not actually processed when I chain together a sequence of transformations in a pipeline, because we are just specifying the stages that each model need to go through. Spark process the DataFrame according to the specified transformations when it receives data from each cross-validation train set. That is, pipeline will only run when I call the fit function."
   ]
  },
  {
   "cell_type": "markdown",
   "metadata": {},
   "source": [
    "## 4. Finding Optimal Model Parameter"
   ]
  },
  {
   "cell_type": "code",
   "execution_count": 24,
   "metadata": {},
   "outputs": [
    {
     "data": {
      "application/vnd.jupyter.widget-view+json": {
       "model_id": "35460714918b42839789923b3d62792c",
       "version_major": 2,
       "version_minor": 0
      },
      "text/plain": [
       "VBox()"
      ]
     },
     "metadata": {},
     "output_type": "display_data"
    },
    {
     "data": {
      "application/vnd.jupyter.widget-view+json": {
       "model_id": "",
       "version_major": 2,
       "version_minor": 0
      },
      "text/plain": [
       "FloatProgress(value=0.0, bar_style='info', description='Progress:', layout=Layout(height='25px', width='50%'),…"
      ]
     },
     "metadata": {},
     "output_type": "display_data"
    },
    {
     "name": "stdout",
     "output_type": "stream",
     "text": [
      "0.7287067497578597"
     ]
    }
   ],
   "source": [
    "model = cv.fit(sampled_train)\n",
    "print(max(model.avgMetrics))"
   ]
  },
  {
   "cell_type": "code",
   "execution_count": 44,
   "metadata": {},
   "outputs": [
    {
     "data": {
      "application/vnd.jupyter.widget-view+json": {
       "model_id": "eff1a2d0d42b4b45a6d45751ce6476a2",
       "version_major": 2,
       "version_minor": 0
      },
      "text/plain": [
       "VBox()"
      ]
     },
     "metadata": {},
     "output_type": "display_data"
    },
    {
     "data": {
      "application/vnd.jupyter.widget-view+json": {
       "model_id": "",
       "version_major": 2,
       "version_minor": 0
      },
      "text/plain": [
       "FloatProgress(value=0.0, bar_style='info', description='Progress:', layout=Layout(height='25px', width='50%'),…"
      ]
     },
     "metadata": {},
     "output_type": "display_data"
    },
    {
     "name": "stdout",
     "output_type": "stream",
     "text": [
      "Training AUC: 0.727710680918522\n",
      "Test AUC:  0.7284259363090377\n",
      "\n",
      "False positive rate by label (Training):\n",
      "label 0: 0.1509021141001486\n",
      "label 1: 0.5101518625863963\n",
      "\n",
      "True positive rate by label (Training):\n",
      "label 0: 0.48984813741360367\n",
      "label 1: 0.8490978858998514\n",
      "\n",
      "Training Accuracy: 0.6694692538347781"
     ]
    }
   ],
   "source": [
    "trainingSummary = model.bestModel.stages[-1].summary\n",
    "print(\"Training AUC: \" + str(trainingSummary.areaUnderROC))\n",
    "print(\"Test AUC: \", str(evaluationSummary))\n",
    "print(\"\\nFalse positive rate by label (Training):\")\n",
    "for i, rate in enumerate(trainingSummary.falsePositiveRateByLabel):\n",
    "    print(\"label %d: %s\" % (i, rate))\n",
    "print(\"\\nTrue positive rate by label (Training):\")\n",
    "for i, rate in enumerate(trainingSummary.truePositiveRateByLabel):\n",
    "    print(\"label %d: %s\" % (i, rate))    \n",
    "print(\"\\nTraining Accuracy: \" + str(trainingSummary.accuracy))"
   ]
  },
  {
   "cell_type": "code",
   "execution_count": 56,
   "metadata": {},
   "outputs": [
    {
     "data": {
      "application/vnd.jupyter.widget-view+json": {
       "model_id": "0a0ab65f2a694d75b375dad87416e8ed",
       "version_major": 2,
       "version_minor": 0
      },
      "text/plain": [
       "VBox()"
      ]
     },
     "metadata": {},
     "output_type": "display_data"
    },
    {
     "data": {
      "application/vnd.jupyter.widget-view+json": {
       "model_id": "",
       "version_major": 2,
       "version_minor": 0
      },
      "text/plain": [
       "FloatProgress(value=0.0, bar_style='info', description='Progress:', layout=Layout(height='25px', width='50%'),…"
      ]
     },
     "metadata": {},
     "output_type": "display_data"
    },
    {
     "name": "stdout",
     "output_type": "stream",
     "text": [
      "+-----------+----------+-------+\n",
      "|good_review|prediction|  count|\n",
      "+-----------+----------+-------+\n",
      "|          1|       1.0|2090192|\n",
      "|          0|       0.0|1205891|\n",
      "|          0|       1.0|1255874|\n",
      "|          1|       0.0| 371470|\n",
      "+-----------+----------+-------+"
     ]
    }
   ],
   "source": [
    "prediction = model.bestModel.transform(sampled_train)\n",
    "prediction.groupBy('good_review', 'prediction').count().show()"
   ]
  },
  {
   "cell_type": "code",
   "execution_count": 57,
   "metadata": {},
   "outputs": [
    {
     "data": {
      "application/vnd.jupyter.widget-view+json": {
       "model_id": "092c983a7562432db47bf834032720be",
       "version_major": 2,
       "version_minor": 0
      },
      "text/plain": [
       "VBox()"
      ]
     },
     "metadata": {},
     "output_type": "display_data"
    },
    {
     "data": {
      "application/vnd.jupyter.widget-view+json": {
       "model_id": "",
       "version_major": 2,
       "version_minor": 0
      },
      "text/plain": [
       "FloatProgress(value=0.0, bar_style='info', description='Progress:', layout=Layout(height='25px', width='50%'),…"
      ]
     },
     "metadata": {},
     "output_type": "display_data"
    },
    {
     "name": "stdout",
     "output_type": "stream",
     "text": [
      "+-----------+----------+-------+\n",
      "|good_review|prediction|  count|\n",
      "+-----------+----------+-------+\n",
      "|          1|       1.0|7306768|\n",
      "|          0|       0.0| 862020|\n",
      "|          0|       1.0| 898485|\n",
      "|          1|       0.0|1297902|\n",
      "+-----------+----------+-------+"
     ]
    }
   ],
   "source": [
    "prediction = model.bestModel.transform(test)\n",
    "prediction.groupBy('good_review', 'prediction').count().show()"
   ]
  },
  {
   "cell_type": "markdown",
   "metadata": {},
   "source": [
    "In summary, our best model got an AUC of 0.73 on sampled train data and an AUC of 0.73 on test data. This is a slight but not satisfiable improvement compared to the original model. Particularly, it tends to misclassify negative reviews as positive reviews. It is poor probably because we need to feed in more data and, particularly, extract more useful information from the string data variables. "
   ]
  },
  {
   "cell_type": "code",
   "execution_count": null,
   "metadata": {},
   "outputs": [],
   "source": []
  }
 ],
 "metadata": {
  "kernelspec": {
   "display_name": "Python 3",
   "language": "python",
   "name": "python3"
  },
  "language_info": {
   "codemirror_mode": {
    "name": "ipython",
    "version": 3
   },
   "file_extension": ".py",
   "mimetype": "text/x-python",
   "name": "python",
   "nbconvert_exporter": "python",
   "pygments_lexer": "ipython3",
   "version": "3.6.9"
  }
 },
 "nbformat": 4,
 "nbformat_minor": 4
}
