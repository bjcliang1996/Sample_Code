{
 "cells": [
  {
   "cell_type": "code",
   "execution_count": 1,
   "metadata": {},
   "outputs": [],
   "source": [
    "#import json, numpy, datetime, boto3, random, time\n",
    "import paramiko, boto3\n",
    "from scp import SCPClient"
   ]
  },
  {
   "cell_type": "code",
   "execution_count": 2,
   "metadata": {},
   "outputs": [],
   "source": [
    "session = boto3.Session()\n",
    "kinesis = session.client('kinesis')\n",
    "ec2 = session.resource('ec2')\n",
    "ec2_client = session.client('ec2')"
   ]
  },
  {
   "cell_type": "code",
   "execution_count": 4,
   "metadata": {},
   "outputs": [],
   "source": [
    "response = kinesis.create_stream(StreamName = 'assignment2_stream', ShardCount = 1)\n",
    "waiter = kinesis.get_waiter('stream_exists')\n",
    "waiter.wait(StreamName='assignment2_stream')"
   ]
  },
  {
   "cell_type": "code",
   "execution_count": 5,
   "metadata": {},
   "outputs": [],
   "source": [
    "instances = ec2.create_instances(ImageId='ami-0915e09cc7ceee3ab',\n",
    "                                 MinCount=1,\n",
    "                                 MaxCount=2,\n",
    "                                 InstanceType='t2.micro',\n",
    "                                 KeyName='bjcliang_macs',\n",
    "                                 SecurityGroupIds=['sg-04884b077c7fe478b'],\n",
    "                                 SecurityGroups=['assignment2'],\n",
    "                                 IamInstanceProfile=\n",
    "                                     {'Name': 'EMR_EC2_DefaultRole'},\n",
    "                                )\n",
    "\n",
    "waiter = ec2_client.get_waiter('instance_running')\n",
    "waiter.wait(InstanceIds=[instance.id for instance in instances])"
   ]
  },
  {
   "cell_type": "code",
   "execution_count": 6,
   "metadata": {},
   "outputs": [
    {
     "data": {
      "text/plain": [
       "{'SubscriptionArn': 'pending confirmation',\n",
       " 'ResponseMetadata': {'RequestId': '5c751b38-58a8-50da-997b-4c0433cce451',\n",
       "  'HTTPStatusCode': 200,\n",
       "  'HTTPHeaders': {'x-amzn-requestid': '5c751b38-58a8-50da-997b-4c0433cce451',\n",
       "   'content-type': 'text/xml',\n",
       "   'content-length': '298',\n",
       "   'date': 'Mon, 18 May 2020 10:53:24 GMT'},\n",
       "  'RetryAttempts': 0}}"
      ]
     },
     "execution_count": 6,
     "metadata": {},
     "output_type": "execute_result"
    }
   ],
   "source": [
    "sns = boto3.client('sns')\n",
    "topic_arn = sns.create_topic(Name = 'w2_alerts')['TopicArn']\n",
    "response = sns.subscribe(TopicArn=topic_arn, Protocol = 'email', \n",
    "                         Endpoint = 'bjcliang@gmail.com')\n",
    "response"
   ]
  },
  {
   "cell_type": "code",
   "execution_count": 7,
   "metadata": {},
   "outputs": [
    {
     "name": "stdout",
     "output_type": "stream",
     "text": [
      "Overwriting producer.py\n"
     ]
    }
   ],
   "source": [
    "%%file producer.py\n",
    "import boto3, datetime, random, json\n",
    "\n",
    "kinesis = boto3.client('kinesis', region_name='us-east-1')\n",
    "sns = boto3.client('sns', region_name='us-east-1')\n",
    "\n",
    "def getReferrer():\n",
    "    data = {}\n",
    "    now = datetime.datetime.now()\n",
    "    str_now = now.isoformat()\n",
    "    data['EVENT_TIME'] = str_now\n",
    "    data['TICKER'] = 'AAPL'\n",
    "    price = random.random() * 100 # Assume price is in USD\n",
    "    data['PRICE'] = round(price, 2)\n",
    "    return data\n",
    "\n",
    "while True:\n",
    "    data = getReferrer()\n",
    "    kinesis.put_record(StreamName = \"assignment2_stream\",\n",
    "                       Data = json.dumps(data),\n",
    "                       PartitionKey = \"partitionkey\")\n",
    "    "
   ]
  },
  {
   "cell_type": "code",
   "execution_count": 9,
   "metadata": {},
   "outputs": [
    {
     "data": {
      "text/plain": [
       "datetime.datetime(2020, 5, 18, 5, 53, 55, 422859)"
      ]
     },
     "execution_count": 9,
     "metadata": {},
     "output_type": "execute_result"
    }
   ],
   "source": [
    "import datetime\n",
    "datetime.datetime.now()"
   ]
  },
  {
   "cell_type": "code",
   "execution_count": 17,
   "metadata": {},
   "outputs": [
    {
     "data": {
      "text/plain": [
       "{'Records': [{'SequenceNumber': '49607116597743420983118306085219934947394337729130004482',\n",
       "   'ApproximateArrivalTimestamp': datetime.datetime(2020, 5, 18, 5, 55, 48, 416000, tzinfo=tzlocal()),\n",
       "   'Data': b'{\"PRICE\": 96.87, \"TICKER\": \"AAPL\", \"EVENT_TIME\": \"2020-05-18T10:55:48.374421\"}',\n",
       "   'PartitionKey': 'partitionkey'}],\n",
       " 'NextShardIterator': 'AAAAAAAAAAEO4rNg4mcYLlBwqaPgA5WFaheZvI5Jtwpz/ckdy/r1REx0b5VVK47YcacYM/iOp28XsTjYcJlEoxIQnf2SQqj7WX/n3PDwvfdJX4fDQUGGQnvoTAlAT6Vg04rISz71yDDfi14zj6aMjXK5sSjQIDhCGM+xZXGq0KmVruGX7zrI6iniupYDOApxAkpKrRLY9TcLhWAvnshxShshK4BzSrjDqaklpqJZmkshtQD/1P6tLw==',\n",
       " 'MillisBehindLatest': 25000,\n",
       " 'ResponseMetadata': {'RequestId': 'cd61c0cd-12bd-e95a-9a5d-acc68b426d8f',\n",
       "  'HTTPStatusCode': 200,\n",
       "  'HTTPHeaders': {'x-amzn-requestid': 'cd61c0cd-12bd-e95a-9a5d-acc68b426d8f',\n",
       "   'x-amz-id-2': '4joj8mHZlKZNtpbUYKyunhKIT9paUH1TMliaAnxxG0rn117EYuXFbDmFxxvlsLezICxT+zPWhnmxJ39qR4wi0GtE9EQURfwe',\n",
       "   'date': 'Mon, 18 May 2020 10:56:11 GMT',\n",
       "   'content-type': 'application/x-amz-json-1.1',\n",
       "   'content-length': '580'},\n",
       "  'RetryAttempts': 0}}"
      ]
     },
     "execution_count": 17,
     "metadata": {},
     "output_type": "execute_result"
    }
   ],
   "source": [
    "kinesis = boto3.client('kinesis', region_name='us-east-1')    \n",
    "shard_it = kinesis.get_shard_iterator(StreamName = \"assignment2_stream\",\n",
    "                                     ShardId = 'shardId-000000000000',\n",
    "                                     ShardIteratorType = 'TRIM_HORIZON',\n",
    "                                     #Timestamp = datetime.datetime.now(),\n",
    "                                     )[\"ShardIterator\"]\n",
    "kinesis.get_records(ShardIterator = shard_it, Limit = 1) "
   ]
  },
  {
   "cell_type": "code",
   "execution_count": 20,
   "metadata": {},
   "outputs": [
    {
     "name": "stdout",
     "output_type": "stream",
     "text": [
      "Overwriting consumer.py\n"
     ]
    }
   ],
   "source": [
    "%%file consumer.py\n",
    "import boto3, json, datetime, time, ast\n",
    "\n",
    "def run_all():\n",
    "    sns = boto3.client('sns', region_name='us-east-1')\n",
    "    kinesis = boto3.client('kinesis', region_name='us-east-1')    \n",
    "    shard_it = kinesis.get_shard_iterator(StreamName = \"assignment2_stream\",\n",
    "                                     ShardId = 'shardId-000000000000',\n",
    "                                     ShardIteratorType = 'TRIM_HORIZON',\n",
    "                                     #Timestamp = datetime.datetime.now(),\n",
    "                                     )[\"ShardIterator\"]\n",
    "\n",
    "    while True:\n",
    "        out = kinesis.get_records(ShardIterator = shard_it, Limit = 1) \n",
    "        \n",
    "        data = out['Records'][0]['Data']\n",
    "        data = ast.literal_eval(data.decode(\"UTF-8\"))\n",
    "        price = data['PRICE']\n",
    "        \n",
    "        if price < 3:\n",
    "            message = 'Current Price = ' + str(price)\n",
    "            message += ', Current Time =' + str(datetime.datetime.now())\n",
    "            response = sns.publish(TopicArn = 'arn:aws:sns:us-east-1:191178721407:w2_alerts',\n",
    "                           Message = message,\n",
    "                           Subject = 'Stock Price Alert')\n",
    "            break\n",
    "\n",
    "        shard_it = out['NextShardIterator']\n",
    "        time.sleep(0.2)\n",
    "    return\n",
    "    \n",
    "run_all()"
   ]
  },
  {
   "cell_type": "code",
   "execution_count": 11,
   "metadata": {},
   "outputs": [
    {
     "data": {
      "text/plain": [
       "['ec2-3-90-64-193.compute-1.amazonaws.com',\n",
       " 'ec2-3-92-0-78.compute-1.amazonaws.com']"
      ]
     },
     "execution_count": 11,
     "metadata": {},
     "output_type": "execute_result"
    }
   ],
   "source": [
    "instance_dns = [instance.public_dns_name \n",
    "                 for instance in ec2.instances.all() \n",
    "                 if instance.state['Name'] == 'running']\n",
    "code = ['producer.py', 'consumer.py']\n",
    "instance_dns"
   ]
  },
  {
   "cell_type": "code",
   "execution_count": 15,
   "metadata": {},
   "outputs": [],
   "source": [
    "ssh_producer, ssh_consumer = paramiko.SSHClient(), paramiko.SSHClient()\n",
    "instance = 0\n",
    "stdin, stdout, stderr = [[None, None] for i in range(3)]\n",
    "for ssh in [ssh_producer, ssh_consumer]:\n",
    "    ssh.set_missing_host_key_policy(paramiko.AutoAddPolicy())\n",
    "    ssh.connect(instance_dns[instance],\n",
    "                username = 'ec2-user',\n",
    "                key_filename='/Users/chen.liang/bjcliang_macs.pem')\n",
    "    \n",
    "    with SCPClient(ssh.get_transport()) as scp:\n",
    "        scp.put(code[instance])\n",
    "    \n",
    "    stdin[instance], stdout[instance], stderr[instance] = \\\n",
    "            ssh.exec_command(\"sudo pip install boto3\")\n",
    "    instance += 1"
   ]
  },
  {
   "cell_type": "code",
   "execution_count": 22,
   "metadata": {},
   "outputs": [
    {
     "name": "stdout",
     "output_type": "stream",
     "text": [
      "Producer Instance is Running producer.py\n"
     ]
    }
   ],
   "source": [
    "producer_exit_status = stdout[0].channel.recv_exit_status() \n",
    "if producer_exit_status == 0:\n",
    "    ssh_producer.exec_command(\"python %s\" % code[0])\n",
    "    print(\"Producer Instance is Running producer.py\")\n",
    "else: print(\"Error\", producer_exit_status)"
   ]
  },
  {
   "cell_type": "code",
   "execution_count": 23,
   "metadata": {},
   "outputs": [
    {
     "data": {
      "text/plain": [
       "(<paramiko.ChannelFile from <paramiko.Channel 3 (open) window=2097152 -> <paramiko.Transport at 0x113bbf60 (cipher aes128-ctr, 128 bits) (active; 1 open channel(s))>>>,\n",
       " <paramiko.ChannelFile from <paramiko.Channel 3 (open) window=2097152 -> <paramiko.Transport at 0x113bbf60 (cipher aes128-ctr, 128 bits) (active; 1 open channel(s))>>>,\n",
       " <paramiko.ChannelFile from <paramiko.Channel 3 (open) window=2097152 -> <paramiko.Transport at 0x113bbf60 (cipher aes128-ctr, 128 bits) (active; 1 open channel(s))>>>)"
      ]
     },
     "execution_count": 23,
     "metadata": {},
     "output_type": "execute_result"
    }
   ],
   "source": [
    "#time.sleep(20)\n",
    "#ssh_producer.exec_command(\"python %s\" % code[0])\n",
    "#time.sleep(20)\n",
    "ssh_consumer.exec_command(\"python %s\" % code[1])"
   ]
  },
  {
   "cell_type": "code",
   "execution_count": 24,
   "metadata": {},
   "outputs": [],
   "source": [
    "ssh_producer.close(); ssh_consumer.close()"
   ]
  },
  {
   "cell_type": "code",
   "execution_count": 72,
   "metadata": {},
   "outputs": [
    {
     "name": "stdout",
     "output_type": "stream",
     "text": [
      "EC2 Instances Successfully Terminated\n",
      "Kinesis Stream Successfully Deleted\n"
     ]
    }
   ],
   "source": [
    "# Terminate EC2 Instances:\n",
    "ec2_client.terminate_instances(InstanceIds=[instance.id for instance in instances])\n",
    "\n",
    "# Confirm that EC2 instances were terminated:\n",
    "waiter = ec2_client.get_waiter('instance_terminated')\n",
    "waiter.wait(InstanceIds=[instance.id for instance in instances])\n",
    "print(\"EC2 Instances Successfully Terminated\")\n",
    "\n",
    "# Delete Kinesis Stream (if it currently exists):\n",
    "try: response = kinesis.delete_stream(StreamName='assignment2_stream')\n",
    "except kinesis.exceptions.ResourceNotFoundException: pass\n",
    "\n",
    "# Confirm that Kinesis Stream was deleted:\n",
    "waiter = kinesis.get_waiter('stream_not_exists')\n",
    "waiter.wait(StreamName='assignment2_stream')\n",
    "print(\"Kinesis Stream Successfully Deleted\")"
   ]
  },
  {
   "cell_type": "markdown",
   "metadata": {},
   "source": [
    "## Email Result\n",
    "\n",
    "<img src=\"email_notification.png\" width=\"600\" align=\"left\" />"
   ]
  },
  {
   "cell_type": "code",
   "execution_count": null,
   "metadata": {},
   "outputs": [],
   "source": []
  }
 ],
 "metadata": {
  "kernelspec": {
   "display_name": "Python 3",
   "language": "python",
   "name": "python3"
  },
  "language_info": {
   "codemirror_mode": {
    "name": "ipython",
    "version": 3
   },
   "file_extension": ".py",
   "mimetype": "text/x-python",
   "name": "python",
   "nbconvert_exporter": "python",
   "pygments_lexer": "ipython3",
   "version": "3.7.0"
  }
 },
 "nbformat": 4,
 "nbformat_minor": 4
}
