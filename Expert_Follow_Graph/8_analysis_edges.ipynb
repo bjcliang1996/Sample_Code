{
 "cells": [
  {
   "cell_type": "code",
   "execution_count": 1,
   "metadata": {},
   "outputs": [],
   "source": [
    "import sklearn, json\n",
    "import pandas as pd\n",
    "import seaborn as sns\n",
    "import numpy as np\n",
    "import matplotlib.pyplot as plt\n",
    "from collections import Counter"
   ]
  },
  {
   "cell_type": "code",
   "execution_count": 3,
   "metadata": {},
   "outputs": [],
   "source": [
    "expert_network = json.load(open('expert_network.json'))"
   ]
  },
  {
   "cell_type": "code",
   "execution_count": 12,
   "metadata": {},
   "outputs": [],
   "source": [
    "exp_set = list(expert_network.keys())\n",
    "peer_friends = dict()\n",
    "for exp in expert_network:\n",
    "    first_degree = set(expert_network[exp]['following']) & set(exp_set)\n",
    "    second_degree = []\n",
    "    for exp2 in first_degree:\n",
    "        second_degree.extend(expert_network[exp2]['following'])\n",
    "    second_degree = [i for i in second_degree if i in exp_set]\n",
    "    peer_friends[exp] = (len(second_degree), Counter(second_degree))"
   ]
  },
  {
   "cell_type": "code",
   "execution_count": 14,
   "metadata": {},
   "outputs": [],
   "source": [
    "peer_friends_2 = dict()\n",
    "for exp in peer_friends:\n",
    "    length = peer_friends[exp][0]\n",
    "    if length == 0: \n",
    "        peer_friends_2[exp] = dict()\n",
    "        continue\n",
    "    dct = peer_friends[exp][1]\n",
    "    peer_friends_2[exp] = {ex:dct[ex]/length for ex in dct}"
   ]
  },
  {
   "cell_type": "code",
   "execution_count": 16,
   "metadata": {},
   "outputs": [
    {
     "data": {
      "text/plain": [
       "{'KL_Pham': 0.003102699348433137,\n",
       " 'joelgriffith': 0.00589512876202296,\n",
       " 'teedabb': 0.0012410797393732546,\n",
       " 'scottzipperle': 0.003102699348433137,\n",
       " 'GaryJSchmitt1': 0.000930809804529941,\n",
       " 'Virginia_Allen5': 0.004964318957493019,\n",
       " 'MHowellTweets': 0.004033509152963078,\n",
       " 'pj_geller': 0.0012410797393732546,\n",
       " 'thomaswright08': 0.0012410797393732546,\n",
       " 'LukeKarnick': 0.0027924294135898233,\n",
       " 'ConStelz': 0.0012410797393732546,\n",
       " 'JustinRheeASC': 0.0024821594787465093,\n",
       " 'MaloneySuzanne': 0.0015513496742165685,\n",
       " 'A_Sloat': 0.001861619609059882,\n",
       " 'lora_ries': 0.004964318957493019,\n",
       " 'torrey_taussig': 0.00031026993484331366,\n",
       " 'LeeWEdwards': 0.004654049022649705,\n",
       " 'KironSkinner': 0.0024821594787465093,\n",
       " 'NRobinson1297': 0.0012410797393732546,\n",
       " 'continetti': 0.006825938566552901,\n",
       " 'Twitter': 0.001861619609059882,\n",
       " 'CharmaineYoest': 0.006515668631709587,\n",
       " 'junghpak1': 0.000930809804529941,\n",
       " 'ColleenAHarmon': 0.003723239218119764,\n",
       " 'kevinrkosar': 0.0021718895439031957,\n",
       " 'adamnmichel': 0.007136208501396215,\n",
       " 'darenbakst': 0.005584858827179647,\n",
       " 'lindseywford': 0.0006205398696866273,\n",
       " 'DouthatNYT': 0.00930809804529941,\n",
       " 'RameshPonnuru': 0.009928637914986037,\n",
       " 'HalBrands': 0.0012410797393732546,\n",
       " 'GabAboutTrade': 0.0034129692832764505,\n",
       " 'charlesmurray': 0.008377288240769469,\n",
       " 'mikehfuchs': 0.0006205398696866273,\n",
       " 'WalteRiley': 0.004033509152963078,\n",
       " 'GScottSays': 0.007446478436239528,\n",
       " 'BruceKlingner': 0.003723239218119764,\n",
       " 'ZackCooper': 0.00031026993484331366,\n",
       " 'RichardMNephew': 0.00031026993484331366,\n",
       " 'MollyMontgomery': 0.00031026993484331366,\n",
       " 'LRacheldG': 0.005584858827179647,\n",
       " 'FredLucasWH': 0.00589512876202296,\n",
       " 'klonkitchen': 0.005274588892336333,\n",
       " 'KayColesJames': 0.00930809804529941,\n",
       " 'joshuatwhite': 0.00031026993484331366,\n",
       " 'EmilieTHF': 0.006515668631709587,\n",
       " 'tanvi_madan': 0.0006205398696866273,\n",
       " 'ecmassimino': 0.00031026993484331366,\n",
       " 'lyndseyfifield': 0.007756748371082842,\n",
       " 'thejcoop': 0.007136208501396215,\n",
       " 'AngelaStent': 0.00031026993484331366,\n",
       " 'JimGoldgeier': 0.000930809804529941,\n",
       " 'JayCostTWS': 0.004343779087806391,\n",
       " 'JVVenable': 0.0034129692832764505,\n",
       " 'tcwittes': 0.0021718895439031957,\n",
       " 'AlexisMrachek': 0.004654049022649705,\n",
       " 'Susan_Hennessey': 0.0027924294135898233,\n",
       " 'Cold_Peace_': 0.004033509152963078,\n",
       " 'jmclaughlinSAIS': 0.000930809804529941,\n",
       " 'theToriKSmith': 0.00589512876202296,\n",
       " 'RobinSimcox': 0.005274588892336333,\n",
       " 'paulwinfree': 0.010549177784672665,\n",
       " 'KatieZimmerman': 0.0012410797393732546,\n",
       " 'steven_pifer': 0.00031026993484331366,\n",
       " 'KoriSchake': 0.003102699348433137,\n",
       " 'KatrinaTrinko': 0.007446478436239528,\n",
       " 'dankochis': 0.005274588892336333,\n",
       " 'RyanTAnd': 0.007446478436239528,\n",
       " 'Katulis': 0.0006205398696866273,\n",
       " 'NileGardiner': 0.006825938566552901,\n",
       " 'Dianeskatz': 0.005274588892336333,\n",
       " 'benjaminwittes': 0.004964318957493019,\n",
       " 'MichaelEOHanlon': 0.0012410797393732546,\n",
       " 'DerekScissors1': 0.0012410797393732546,\n",
       " 'OliviaEnos': 0.005274588892336333,\n",
       " 'Bromund': 0.003723239218119764,\n",
       " 'norbertjmichel': 0.007756748371082842,\n",
       " 'DAlexBlumenthal': 0.0006205398696866273,\n",
       " 'ana_r_quintana': 0.007756748371082842,\n",
       " 'malcolm_john': 0.00589512876202296,\n",
       " 'shadihamid': 0.003723239218119764,\n",
       " 'LarryKorb': 0.0006205398696866273,\n",
       " 'strobetalbott': 0.0021718895439031957,\n",
       " 'stuartmbutler': 0.006205398696866274,\n",
       " 'genevievewood': 0.007136208501396215,\n",
       " 'FredericoBF': 0.005274588892336333,\n",
       " 'JonahDispatch': 0.01179025752404592,\n",
       " 'mrubin1971': 0.001861619609059882,\n",
       " 'dhume': 0.0021718895439031957,\n",
       " 'LukeDCoffey': 0.004654049022649705,\n",
       " 'mcgovern': 0.0034129692832764505,\n",
       " 'EHSlattery': 0.006515668631709587,\n",
       " 'kimsmithholmes': 0.008687558175612783,\n",
       " 'lindseymburke': 0.00930809804529941,\n",
       " 'dpletka': 0.004654049022649705,\n",
       " 'criticalthreats': 0.0006205398696866273,\n",
       " 'marcthiessen': 0.005274588892336333,\n",
       " 'arthurbrooks': 0.009928637914986037,\n",
       " 'Brookes_Peter': 0.005584858827179647,\n",
       " 'HvonSpakovsky': 0.007136208501396215,\n",
       " 'WalterLohman': 0.005274588892336333,\n",
       " 'Helledale': 0.004654049022649705,\n",
       " 'MEaglen': 0.004033509152963078,\n",
       " 'MichaelBarone': 0.004654049022649705,\n",
       " 'danidoane': 0.006205398696866274,\n",
       " 'Gundisalvus': 0.00930809804529941,\n",
       " 'EdFeulner': 0.008377288240769469,\n",
       " 'KenMac55': 0.006825938566552901,\n",
       " 'bridgettwagner': 0.00930809804529941,\n",
       " 'andrewpmcindoe': 0.004964318957493019,\n",
       " 'john_w_fleming': 0.006515668631709587,\n",
       " 'paulgallagher': 0.007756748371082842,\n",
       " 'RobertBluey': 0.01085944771951598,\n",
       " 'stanveuger': 0.005274588892336333,\n",
       " 'RobertDoar': 0.005274588892336333,\n",
       " 'michaelbd': 0.004654049022649705,\n",
       " 'jon_rauch': 0.0034129692832764505,\n",
       " 'tpbinion': 0.004033509152963078,\n",
       " 'JDVance1': 0.00589512876202296,\n",
       " 'kearney_melissa': 0.005584858827179647,\n",
       " 'EJDionne': 0.006205398696866274,\n",
       " 'RichardvReeves': 0.006515668631709587,\n",
       " 'rickhess99': 0.003723239218119764,\n",
       " 'TPCarney': 0.008687558175612783,\n",
       " 'AronRTTT': 0.0012410797393732546,\n",
       " 'MichaelRStrain': 0.008067018305926156,\n",
       " 'ScottGottliebMD': 0.008997828110456097,\n",
       " 'JimPethokoukis': 0.010238907849829351,\n",
       " 'AlexBrill_DC': 0.004343779087806391,\n",
       " 'Paulwolfowitz': 0.000930809804529941,\n",
       " 'Mark_J_Perry': 0.004654049022649705,\n",
       " 'joeantos': 0.003102699348433137,\n",
       " 'jerry_jtaylor': 0.0012410797393732546,\n",
       " 'judy_chevalier': 0.0027924294135898233,\n",
       " 'davidmwessel': 0.008067018305926156,\n",
       " 'gbenga_ajilore': 0.003102699348433137,\n",
       " 'TomJawetz': 0.000930809804529941,\n",
       " 'indigenalysis': 0.0027924294135898233,\n",
       " 'dany_bahar': 0.0015513496742165685,\n",
       " 'JayCShambaugh': 0.004654049022649705,\n",
       " 'pwolgin': 0.0006205398696866273,\n",
       " 'DupasPascaline': 0.001861619609059882,\n",
       " 'jenny_schuetz': 0.001861619609059882,\n",
       " 'WilcoxNMP': 0.006515668631709587,\n",
       " 'econsarahreber': 0.003102699348433137,\n",
       " 'seema_econ': 0.0021718895439031957,\n",
       " 'bl_hardy': 0.0021718895439031957,\n",
       " 'SociologistRay': 0.003102699348433137,\n",
       " 'scottwallard': 0.00031026993484331366,\n",
       " 'EricVerhoogen': 0.0006205398696866273,\n",
       " 'Econ_Sandy': 0.003723239218119764,\n",
       " 'dwschanz': 0.0024821594787465093,\n",
       " 'Austan_Goolsbee': 0.007136208501396215,\n",
       " 'amitabhchandra2': 0.003723239218119764,\n",
       " 'NormOrnstein': 0.004033509152963078,\n",
       " 'KEBroady': 0.0024821594787465093,\n",
       " 'isawhill': 0.0034129692832764505,\n",
       " 'WendyEdelberg': 0.004033509152963078,\n",
       " 'BSangafowaCoul': 0.0012410797393732546,\n",
       " 'clinkeyoung': 0.000930809804529941,\n",
       " 'AdeleCMorris': 0.0021718895439031957,\n",
       " 'PeterContiBrown': 0.0012410797393732546,\n",
       " 'jleibenluft': 0.0024821594787465093,\n",
       " 'daynamatthew3': 0.000930809804529941,\n",
       " 'davidrdollar': 0.000930809804529941,\n",
       " 'BillGalston': 0.004343779087806391,\n",
       " 'JoshGotbaum': 0.0021718895439031957,\n",
       " 'neeratanden': 0.003723239218119764,\n",
       " 'wjantholis': 0.000930809804529941,\n",
       " 'Michael_S_Barr': 0.0012410797393732546,\n",
       " 'EswarSPrasad': 0.000930809804529941,\n",
       " 'PhilipWallach': 0.0024821594787465093,\n",
       " 'eosnos': 0.0012410797393732546,\n",
       " 'kaushikcbasu': 0.0015513496742165685,\n",
       " 'dandrezner': 0.005274588892336333,\n",
       " 'kpomerleau': 0.004654049022649705,\n",
       " 'HolzerHarry': 0.0012410797393732546,\n",
       " 'WilliamGale2': 0.004654049022649705,\n",
       " 'adamjwhitedc': 0.003723239218119764,\n",
       " 'NormEisen': 0.0034129692832764505,\n",
       " 'streeterryan': 0.0027924294135898233,\n",
       " 'ben_ippolito': 0.003102699348433137,\n",
       " 'mikemadowitz': 0.0024821594787465093,\n",
       " 'biggsag': 0.004343779087806391,\n",
       " 'SitaSlavov': 0.0006205398696866273,\n",
       " 'MattHJensen': 0.0034129692832764505,\n",
       " 'osmastro': 0.0006205398696866273,\n",
       " 'DaliborRohac': 0.0015513496742165685,\n",
       " 'CHSommers': 0.004654049022649705,\n",
       " 'slsatel': 0.0021718895439031957,\n",
       " 'SeanTrende': 0.005584858827179647,\n",
       " 'jkirchick': 0.0012410797393732546,\n",
       " 'PatrickTyrrell1': 0.0027924294135898233,\n",
       " 'Jamesgattuso': 0.005274588892336333,\n",
       " 'mike_mazza': 0.00031026993484331366,\n",
       " 'andyolivastro': 0.003102699348433137,\n",
       " 'MCAmselem': 0.006515668631709587,\n",
       " 'JJCarafano': 0.008687558175612783,\n",
       " 'tzsmith': 0.0015513496742165685,\n",
       " 'glo_tay': 0.0027924294135898233,\n",
       " 'Mr_Jamie_B_Hall': 0.004343779087806391,\n",
       " 'ejbelasco': 0.0006205398696866273,\n",
       " 'Jim_Harper': 0.0012410797393732546,\n",
       " 'SethHanlon': 0.003102699348433137,\n",
       " 'leah_boustan': 0.004033509152963078,\n",
       " 'ProfSaunders': 0.0015513496742165685,\n",
       " 'mollyereynolds': 0.0021718895439031957,\n",
       " 'aneeshchopra': 0.000930809804529941,\n",
       " 'TopherSpiro': 0.0021718895439031957,\n",
       " 'TomSpoehr': 0.0015513496742165685,\n",
       " 'TimothyDoescher': 0.001861619609059882,\n",
       " 't_shirkman': 0.0027924294135898233,\n",
       " 'DavidADitch': 0.004654049022649705,\n",
       " 'HelenaRamirez': 0.0021718895439031957,\n",
       " 'parkersheppard': 0.004654049022649705,\n",
       " 'JM_Butcher': 0.003723239218119764,\n",
       " 'JustinBogie': 0.005274588892336333,\n",
       " 'NiconomistLoris': 0.004654049022649705,\n",
       " 'NickStolzfuReal': 0.0006205398696866273,\n",
       " 'AmyAndersonDNP': 0.0015513496742165685,\n",
       " 'JohnPopp316': 0.000930809804529941,\n",
       " 'TomJipping': 0.003723239218119764,\n",
       " 'resourcesgal': 0.000930809804529941,\n",
       " 'augusta_irvine': 0.00031026993484331366,\n",
       " 'MJGillespieinNJ': 0.0006205398696866273,\n",
       " 'laurenelizevans': 0.003102699348433137,\n",
       " 'JesseCharlesLee': 0.0012410797393732546,\n",
       " 'Melanie_Israel': 0.0034129692832764505,\n",
       " 'kdd0211': 0.003102699348433137,\n",
       " 'JeffEisenach': 0.0006205398696866273,\n",
       " 'LoriMcNicoll': 0.0006205398696866273,\n",
       " 'adamconner': 0.000930809804529941,\n",
       " 'JamesMRoberts3': 0.0006205398696866273,\n",
       " 'annelies_goger': 0.001861619609059882,\n",
       " 'MollyKinder': 0.0015513496742165685,\n",
       " 'laurenlbauer': 0.0021718895439031957,\n",
       " 'HadyAmr': 0.00031026993484331366,\n",
       " 'kavitapmd': 0.0015513496742165685,\n",
       " 'michaelsozan': 0.0006205398696866273,\n",
       " 'RebeccaCokley': 0.0006205398696866273,\n",
       " 'mfullilove': 0.0006205398696866273,\n",
       " 'Arturo_Sarukhan': 0.0006205398696866273,\n",
       " 'natmalkus': 0.0015513496742165685,\n",
       " 'EKamarck': 0.0027924294135898233,\n",
       " 'JohnJHudak': 0.0024821594787465093,\n",
       " 'Lawrence': 0.0021718895439031957,\n",
       " 'Dougsbriefcase': 0.0015513496742165685,\n",
       " 'Joshua_K_Gill': 0.00031026993484331366,\n",
       " 'JamesDiPane': 0.00031026993484331366,\n",
       " 'delislealleges': 0.0015513496742165685,\n",
       " 'GregWeiner1': 0.000930809804529941,\n",
       " 'SamuelAbramsAEI': 0.0006205398696866273,\n",
       " 'AndyGreenSF': 0.0006205398696866273,\n",
       " 'Cal_Blaylock': 0.00031026993484331366,\n",
       " 'BrettDSchaefer': 0.0015513496742165685,\n",
       " 'cherisetrump': 0.0012410797393732546,\n",
       " 'jtrothwell': 0.001861619609059882,\n",
       " 'amy_liuw': 0.001861619609059882,\n",
       " 'berubea1': 0.0015513496742165685,\n",
       " 'MaiyaCl': 0.0012410797393732546,\n",
       " 'jdalrymple_esq': 0.0006205398696866273,\n",
       " 'angelasailor': 0.0006205398696866273,\n",
       " 'KatieSamalis': 0.0006205398696866273,\n",
       " 'AngelaRachidi': 0.0012410797393732546,\n",
       " 'JanineBrown85': 0.0006205398696866273,\n",
       " 'DrLeanaWen': 0.0015513496742165685,\n",
       " 'FinGregg': 0.0006205398696866273,\n",
       " 'dcoxpolls': 0.0006205398696866273,\n",
       " 'orrell_b': 0.000930809804529941,\n",
       " 'JBSay': 0.0012410797393732546,\n",
       " 'drturnerlee': 0.0012410797393732546,\n",
       " 'AdieTomer': 0.0012410797393732546,\n",
       " 'lohplaces': 0.0006205398696866273,\n",
       " 'jennifermharris': 0.0006205398696866273,\n",
       " 'chrismeserole': 0.000930809804529941,\n",
       " 'MarcelaEscobari': 0.000930809804529941,\n",
       " 'joeparilla': 0.0012410797393732546,\n",
       " 'JohnDRatliff': 0.00031026993484331366,\n",
       " 'CamilleBusette': 0.0015513496742165685,\n",
       " 'ryanl_hass': 0.00031026993484331366,\n",
       " 'mhnickie': 0.0015513496742165685,\n",
       " 'MarcDCase': 0.0021718895439031957,\n",
       " 'MarekGootman': 0.00031026993484331366,\n",
       " 'GaneshSitaraman': 0.000930809804529941,\n",
       " 'AlexCEngler': 0.000930809804529941,\n",
       " 'MadihaAfzal': 0.0006205398696866273,\n",
       " 'andreperryedu': 0.0015513496742165685,\n",
       " 'shilpaphadke': 0.0006205398696866273,\n",
       " 'IanHathaway': 0.0006205398696866273,\n",
       " 'John_Bailey': 0.0015513496742165685,\n",
       " 'ulrichboser': 0.000930809804529941,\n",
       " 'jwkane1': 0.000930809804529941,\n",
       " 'jvey1': 0.0012410797393732546,\n",
       " 'danielbenaim': 0.0006205398696866273,\n",
       " 'xavbriggs': 0.0012410797393732546,\n",
       " 'aidthoughts': 0.0006205398696866273,\n",
       " 'pmandaville': 0.0006205398696866273,\n",
       " 'lsheiner': 0.0015513496742165685,\n",
       " 'rebeccavallas': 0.0012410797393732546,\n",
       " 'ryan_zamarripa': 0.0006205398696866273,\n",
       " 'SasserModestino': 0.000930809804529941,\n",
       " 'DavidRBurton': 0.00031026993484331366,\n",
       " 'MargLTaylor': 0.0006205398696866273,\n",
       " 'S_R_Anders': 0.000930809804529941,\n",
       " 'JonValant': 0.000930809804529941,\n",
       " 'srcellini': 0.000930809804529941,\n",
       " 'VFelbabBrown': 0.000930809804529941,\n",
       " 'GuthrieGF': 0.0006205398696866273,\n",
       " 'AddisuLashitew': 0.0006205398696866273,\n",
       " 'ALOYSIUSORDU': 0.00031026993484331366,\n",
       " 'CHonorableEsq': 0.00031026993484331366,\n",
       " 'JIMSEDU': 0.00031026993484331366,\n",
       " 'kdtenpas': 0.000930809804529941,\n",
       " 'sandylocks': 0.000930809804529941,\n",
       " 'Tamar_Istanbul': 0.00031026993484331366,\n",
       " 'EGWBrookings': 0.0006205398696866273,\n",
       " 'ShamikaRavi': 0.00031026993484331366,\n",
       " 'MichalGW': 0.000930809804529941,\n",
       " 'mj_meaney': 0.00031026993484331366,\n",
       " 'otaspinar': 0.00031026993484331366,\n",
       " 'profjensludwig': 0.00031026993484331366,\n",
       " 'DavidMadland': 0.0006205398696866273,\n",
       " 'geoffreygertz': 0.0006205398696866273,\n",
       " 'anthonypipa': 0.0006205398696866273,\n",
       " 'IanVRowe': 0.0006205398696866273,\n",
       " 'olinsky': 0.0006205398696866273,\n",
       " 'analerevenga': 0.000930809804529941,\n",
       " 'celiabelin': 0.00031026993484331366,\n",
       " 'Catbrown66': 0.00031026993484331366,\n",
       " 'tewheels': 0.00031026993484331366,\n",
       " 'EduBenM': 0.000930809804529941,\n",
       " 'KathyandRo1': 0.00031026993484331366,\n",
       " 'Kemal_Dervis': 0.0006205398696866273,\n",
       " 'mcarthur': 0.0006205398696866273,\n",
       " 'dcjretiresecure': 0.0012410797393732546,\n",
       " 'ShibleyTelhami': 0.00031026993484331366,\n",
       " 'JennyPerlman': 0.00031026993484331366,\n",
       " 'solis_msolis': 0.00031026993484331366,\n",
       " 'natansachs': 0.0006205398696866273,\n",
       " 'BobLitan': 0.0006205398696866273,\n",
       " 'piccone_ted': 0.000930809804529941,\n",
       " 'niamyaraghi': 0.00031026993484331366,\n",
       " 'milenkanik': 0.00031026993484331366,\n",
       " 'rpuentes': 0.0006205398696866273,\n",
       " 'ekneebone': 0.000930809804529941,\n",
       " 'cgbrookings': 0.0012410797393732546,\n",
       " 'dbergeron_CAP': 0.00031026993484331366,\n",
       " 'ivanastradner': 0.000930809804529941,\n",
       " 'allisonmpreiss': 0.0006205398696866273,\n",
       " 'Just_Schweitzer': 0.00031026993484331366,\n",
       " 'jparsh13': 0.00031026993484331366,\n",
       " 'CharlatAnne': 0.00031026993484331366,\n",
       " 'baaallard': 0.00031026993484331366,\n",
       " 'ACGinDC': 0.00031026993484331366,\n",
       " 'DivyaGVijay': 0.00031026993484331366,\n",
       " 'BrentJCohen': 0.00031026993484331366,\n",
       " 'SalsaVerdin': 0.00031026993484331366,\n",
       " 'RitaCliffton': 0.00031026993484331366,\n",
       " 'RanjAlaaldin': 0.00031026993484331366,\n",
       " 'mags_buchanan': 0.00031026993484331366,\n",
       " 'Jenkinsbd': 0.00031026993484331366,\n",
       " 'vinelli': 0.00031026993484331366,\n",
       " 'SamTRicketts': 0.00031026993484331366,\n",
       " 'juliamcusick': 0.00031026993484331366,\n",
       " 'TBHiggins': 0.00031026993484331366,\n",
       " 'SJWorkman': 0.00031026993484331366,\n",
       " 'WJR_ESQ': 0.00031026993484331366,\n",
       " 'alexandriajwitt': 0.00031026993484331366,\n",
       " 'thatryanri': 0.00031026993484331366,\n",
       " 'CT_Ford': 0.00031026993484331366,\n",
       " 'waflanagan': 0.00031026993484331366,\n",
       " 'Shugruberg': 0.00031026993484331366,\n",
       " 'ricardo_rauseo': 0.00031026993484331366,\n",
       " 'dan_restrepo': 0.00031026993484331366,\n",
       " 'CMSeeberger': 0.00031026993484331366,\n",
       " 'edchungDC': 0.00031026993484331366,\n",
       " 'zumothecat': 0.00031026993484331366,\n",
       " 'ChelseaCParsons': 0.00031026993484331366,\n",
       " 'jdlamond': 0.00031026993484331366,\n",
       " 'LilyRoberts12': 0.000930809804529941,\n",
       " 'AlexBWall': 0.00031026993484331366,\n",
       " 'NatSecMulligan': 0.00031026993484331366,\n",
       " 'MaggieM_S': 0.0006205398696866273,\n",
       " 'missrrosenberg': 0.00031026993484331366,\n",
       " 'JAEnda1': 0.00031026993484331366,\n",
       " 'MaxHoffmanDC': 0.00031026993484331366,\n",
       " 'koronet': 0.00031026993484331366,\n",
       " 'ramskull': 0.00031026993484331366,\n",
       " 'christygoldfuss': 0.00031026993484331366,\n",
       " 'willingham_zoe': 0.00031026993484331366,\n",
       " 'mpellittieri': 0.00031026993484331366,\n",
       " 'atausanovitch': 0.00031026993484331366,\n",
       " 'AmbGordonGray': 0.00031026993484331366,\n",
       " 'danyindc': 0.0006205398696866273,\n",
       " 'erincohan': 0.00031026993484331366,\n",
       " 'maxbergmann': 0.00031026993484331366,\n",
       " 'momofink': 0.00031026993484331366,\n",
       " 'GgrHendricks': 0.00031026993484331366,\n",
       " 'SamBerger_DC': 0.00031026993484331366,\n",
       " 'citizenwillis': 0.00031026993484331366,\n",
       " 'alexclosesgaps': 0.00031026993484331366,\n",
       " 'kellymagsamen': 0.00031026993484331366,\n",
       " 'DCHammslice': 0.00031026993484331366,\n",
       " 'maura_calsyn': 0.00031026993484331366,\n",
       " 'collinsr': 0.0006205398696866273,\n",
       " 'jasonlevitis': 0.00031026993484331366,\n",
       " 'EmilyG_DC': 0.00031026993484331366,\n",
       " 'MLBombard': 0.00031026993484331366,\n",
       " 'Prof_CEW': 0.0006205398696866273,\n",
       " 'SarahJaneGlynn': 0.00031026993484331366,\n",
       " 'adamnpeck': 0.00031026993484331366,\n",
       " 'dgibber123': 0.00031026993484331366,\n",
       " 'ProfTalmadge': 0.00031026993484331366,\n",
       " 'samanthaenergy': 0.00031026993484331366,\n",
       " 'rodneysampson': 0.00031026993484331366,\n",
       " 'drlungamam': 0.00031026993484331366,\n",
       " 'EricPatashnik': 0.00031026993484331366,\n",
       " 'ChhabraT': 0.00031026993484331366,\n",
       " 'douglasharris99': 0.0006205398696866273,\n",
       " 'eduardoyeyati': 0.00031026993484331366,\n",
       " 'akhandelwal8': 0.00031026993484331366,\n",
       " 'WarwickMcKibbin': 0.00031026993484331366,\n",
       " 'ufukakcigit': 0.000930809804529941,\n",
       " 'call4pax': 0.00031026993484331366,\n",
       " 'EmiVegasV': 0.00031026993484331366,\n",
       " 'dortegaeval': 0.00031026993484331366,\n",
       " 'EstevadeordalA': 0.00031026993484331366,\n",
       " 'htrinkunas': 0.00031026993484331366,\n",
       " 'LandrySigne': 0.00031026993484331366,\n",
       " 'AnnaDScherbina': 0.00031026993484331366,\n",
       " 'drj_policy': 0.00031026993484331366,\n",
       " 'ProfDanielLyons': 0.00031026993484331366,\n",
       " 'ShaneTews': 0.00031026993484331366,\n",
       " 'sesmith': 0.00031026993484331366,\n",
       " 'StevePtweets': 0.00031026993484331366,\n",
       " 'ProfessorKaren': 0.00031026993484331366,\n",
       " 'jenlawlessUVA': 0.00031026993484331366}"
      ]
     },
     "execution_count": 16,
     "metadata": {},
     "output_type": "execute_result"
    }
   ],
   "source": [
    "peer_friends_2['paulwinfree']"
   ]
  },
  {
   "cell_type": "code",
   "execution_count": 3,
   "metadata": {},
   "outputs": [
    {
     "data": {
      "text/plain": [
       "dict_keys(['expert_id', 'name', 'institution', 'type', 'num_opinions', 'num_testimony', 'num_press', 'num_external', 'is_resident', 'is_senior', 'is_leadership', 'is_phd', 'is_law', 'num_tweets', 'num_following', 'num_followers'])"
      ]
     },
     "execution_count": 3,
     "metadata": {},
     "output_type": "execute_result"
    }
   ],
   "source": [
    "info1 = pd.read_csv('complete_data_centrality.csv')\n",
    "data = pd.read_csv('complete_data.csv').drop(['title', 'type'], axis=1)\n",
    "data = data[~data['type'].isin(['other', 'N'])]\n",
    "data = data[~data['twitter'].isin(['-1', 'Twitter', 'MarshallJenA', 'sarahfiggatt'])]\n",
    "data = data.drop_duplicates(subset = ['twitter'])\n",
    "\n",
    "expert_data = data.set_index('twitter').T.to_dict()\n",
    "expert_data['chrisbachmann'].keys()"
   ]
  },
  {
   "cell_type": "code",
   "execution_count": null,
   "metadata": {},
   "outputs": [],
   "source": [
    "from itertools import permutations\n",
    "A_follow_B = list(permutations(data['twitter'], 2))\n",
    "int_data = pd.DataFrame({'from':[i[0] for i in A_follow_B], 'to': [i[1] for i in A_follow_B]})\n",
    "int_data['is_edge'] = int_data[['from', 'to']].apply(lambda x: x[1] in \n",
    "                                expert_network[x[0]]['following'], axis=1)"
   ]
  },
  {
   "cell_type": "code",
   "execution_count": 5,
   "metadata": {},
   "outputs": [],
   "source": [
    "full_data = int_data.merge(data, left_on = 'from', right_on = 'twitter')\n",
    "full_data = full_data.merge(data, left_on = 'to', right_on = 'twitter')"
   ]
  },
  {
   "cell_type": "code",
   "execution_count": 6,
   "metadata": {},
   "outputs": [],
   "source": [
    "full_data['share_institution'] = full_data['institution_x'] == full_data['institution_y']\n",
    "full_data['more_tweets'] = (full_data['num_tweets_y'] - full_data['num_tweets_x'])/ full_data['num_tweets_x']\n",
    "full_data['more_followers'] = (full_data['num_followers_y'] - \n",
    "                               full_data['num_followers_x'])/ full_data['num_followers_x']\n",
    "full_data['more_following'] = (full_data['num_following_y'] - \n",
    "                               full_data['num_following_x'])/ full_data['num_following_x']"
   ]
  },
  {
   "cell_type": "code",
   "execution_count": 7,
   "metadata": {},
   "outputs": [],
   "source": [
    "full_data['higher_rank'] = full_data[['is_leadership_x', 'is_senior_x', \n",
    "                                      'is_leadership_y', 'is_senior_y']].apply(lambda x: \n",
    "                                      ((x[2]=='Y') | (x[3] == 'Y')) and ((x[0] =='N') & (x[1] == 'N')), axis =1)\n",
    "full_data['head'] = full_data[['share_institution', 'higher_rank']].apply(lambda x: x[0]&x[1], axis=1)\n"
   ]
  },
  {
   "cell_type": "code",
   "execution_count": 8,
   "metadata": {},
   "outputs": [],
   "source": [
    "full_data['higher_degree'] = full_data[['is_phd_x', 'is_phd_y']].apply(lambda x: \n",
    "                             (x[0] == 'N') & (x[1]=='Y'), axis=1)"
   ]
  },
  {
   "cell_type": "code",
   "execution_count": 9,
   "metadata": {},
   "outputs": [],
   "source": [
    "full_data.to_csv('data4analysis.csv', index=False)"
   ]
  },
  {
   "cell_type": "markdown",
   "metadata": {},
   "source": [
    "## With other information integrated"
   ]
  },
  {
   "cell_type": "code",
   "execution_count": 34,
   "metadata": {},
   "outputs": [],
   "source": [
    "import sklearn, json\n",
    "import pandas as pd\n",
    "import seaborn as sns\n",
    "import numpy as np\n",
    "import matplotlib.pyplot as plt\n",
    "from collections import Counter\n",
    "from sklearn.preprocessing import PolynomialFeatures\n",
    "from sklearn.linear_model import LogisticRegression\n",
    "from sklearn.preprocessing import StandardScaler, MinMaxScaler\n",
    "from sklearn.metrics import f1_score\n",
    "import statsmodels.api as sm\n",
    "from sklearn.model_selection import train_test_split\n",
    "from sklearn.ensemble import RandomForestClassifier\n",
    "full_data = pd.read_csv('data4analysis.csv')"
   ]
  },
  {
   "cell_type": "code",
   "execution_count": 22,
   "metadata": {},
   "outputs": [],
   "source": [
    "def match_friends(x):\n",
    "    exp1, exp2 = x\n",
    "    try: return peer_friends_2[exp1][exp2]\n",
    "    except KeyError: return 0\n",
    "full_data['sec_deg_following'] = full_data[['twitter_x', \n",
    "                                            'twitter_y']].apply(match_friends, axis=1)"
   ]
  },
  {
   "cell_type": "code",
   "execution_count": 36,
   "metadata": {},
   "outputs": [],
   "source": [
    "full_data['more_opinions'] = full_data['num_opinions_y']- full_data['num_opinions_x']\n",
    "full_data['more_testimony'] = full_data['num_testimony_y']- full_data['num_testimony_x']\n",
    "full_data['more_press'] = full_data['num_press_y']- full_data['num_press_x']\n",
    "full_data['more_external'] = full_data['num_external_y']- full_data['num_external_x']\n",
    "#full_data = full_data[col_lst]\n",
    "full_data.to_csv('data4analysis.csv', index=False)"
   ]
  },
  {
   "cell_type": "code",
   "execution_count": 69,
   "metadata": {},
   "outputs": [],
   "source": [
    "col_lst = [#'from', 'to', \n",
    "           'is_edge', \n",
    "           #'expert_id_x', 'expert_id_y',\n",
    "           #'name_x', 'name_y', \n",
    "           #'twitter_x','twitter_y',\n",
    "            'institution_x', 'institution_y',\n",
    "            #'num_opinions_x', 'num_testimony_x', 'num_press_x', 'num_external_x',\n",
    "            'num_opinions_y', 'num_testimony_y', 'num_press_y', 'num_external_y',\n",
    "            'more_opinions', 'more_testimony', 'more_press', 'more_external',\n",
    "            'is_resident_x', 'is_resident_y', \n",
    "            'is_senior_x', 'is_senior_y', \n",
    "            'is_leadership_x', 'is_leadership_y',\n",
    "            'is_phd_x', 'is_phd_y',\n",
    "            'is_law_x', 'is_law_y',\n",
    "           #'num_tweets_x', 'num_tweets_y',\n",
    "           #'num_following_x', 'num_followers_x', \n",
    "           #'num_following_y', 'num_followers_y',\n",
    "           #'tweet_freq_x', 'tweet_freq_y', \n",
    "            'share_institution', 'higher_rank', 'head',\n",
    "            'more_tweets', 'more_followers', 'more_following',  \n",
    "            'tweet_freq_diff', 'tweet_similarity',\n",
    "            'higher_degree', 'topic_similarity', \n",
    "            'retweeted', 'at', 'share_links',\n",
    "            'sec_deg_following']"
   ]
  },
  {
   "cell_type": "code",
   "execution_count": 101,
   "metadata": {},
   "outputs": [],
   "source": [
    "target_data = full_data[col_lst].dropna().copy()\n",
    "\n",
    "for col in target_data.columns:\n",
    "    if ('is_' in col) and (col not in ['is_edge']):\n",
    "        target_data[col] = target_data[col].apply(lambda x: x=='Y')\n",
    "    \n",
    "target_data['is_aei_x'] = target_data['institution_x'].apply(lambda x: x=='aei')\n",
    "target_data['is_cap_x'] = target_data['institution_x'].apply(lambda x: x=='cap')\n",
    "target_data['is_heritage_x'] = target_data['institution_x'].apply(lambda x: x=='heritage')\n",
    "target_data = target_data.drop(['institution_x', 'institution_y'], axis=1)\n",
    "\n",
    "scale_lst = [\n",
    "    'num_opinions_x', 'num_testimony_x', 'num_press_x', 'num_external_x',\n",
    "    'num_opinions_y', 'num_testimony_y', 'num_press_y', 'num_external_y',\n",
    "    'more_opinions', 'more_testimony', 'more_press', 'more_external',\n",
    "    'more_tweets', 'more_followers', 'more_following', \n",
    "    'tweet_freq_diff', 'tweet_similarity',\n",
    "    'higher_degree', 'topic_similarity', \n",
    "    'retweeted', 'at', 'share_links',\n",
    "    'sec_deg_following']\n",
    "\n",
    "for col in scale_lst:\n",
    "    if col not in target_data.columns: continue\n",
    "    scaler = MinMaxScaler(feature_range=(0, 1)).fit(target_data[[col]])\n",
    "    target_data[col] = scaler.transform(target_data[[col]])\n",
    "    \n",
    "scale_lst  =['topic_similarity',\"tweet_similarity\"]\n",
    "for col in scale_lst:\n",
    "    scaler = MinMaxScaler(feature_range=(-1, 1)).fit(target_data[[col]])\n",
    "    target_data[col] = scaler.transform(target_data[[col]])\n",
    "        \n",
    "target_data['topic_similarity^2'] = target_data['topic_similarity']**2\n",
    "target_data['tweet_similarity^2'] = target_data['tweet_similarity']**2\n",
    "target_data = target_data.replace([np.inf, -np.inf], np.nan)\n",
    "target_data = target_data.dropna()"
   ]
  },
  {
   "cell_type": "code",
   "execution_count": 102,
   "metadata": {},
   "outputs": [
    {
     "name": "stdout",
     "output_type": "stream",
     "text": [
      "0.053717446574589434 0.05247077185852696\n"
     ]
    },
    {
     "data": {
      "text/plain": [
       "(0.5585921325051759, 0.9633752490895348)"
      ]
     },
     "execution_count": 102,
     "metadata": {},
     "output_type": "execute_result"
    }
   ],
   "source": [
    "X = target_data.drop(['is_edge'], axis=1)\n",
    "y = target_data['is_edge']\n",
    "X_train, X_test, y_train, y_test = train_test_split(X, y, test_size=0.3, random_state=42)\n",
    "print(np.mean(y_test), np.mean(y_train))\n",
    "clf = RandomForestClassifier(random_state=0).fit(X_train, y_train)\n",
    "f1_score(y_test, clf.predict(X_test)), clf.score(X_test, y_test)\n",
    "#mean accuracy on the given test data and labels."
   ]
  },
  {
   "cell_type": "code",
   "execution_count": 57,
   "metadata": {},
   "outputs": [
    {
     "data": {
      "image/png": "[encoded data removed]",
      "text/plain": [
       "<Figure size 432x288 with 1 Axes>"
      ]
     },
     "metadata": {
      "needs_background": "light"
     },
     "output_type": "display_data"
    }
   ],
   "source": [
    "vis = sorted(list(zip(X.columns, clf.feature_importances_))[1:], key = lambda x:x[1])\n",
    "ax = sns.barplot(x=[i[0] for i in vis], y=[i[1] for i in vis])\n",
    "ax.set_xticklabels(ax.get_xticklabels(), rotation=90)\n",
    "plt.show()"
   ]
  },
  {
   "cell_type": "code",
   "execution_count": 110,
   "metadata": {},
   "outputs": [
    {
     "name": "stdout",
     "output_type": "stream",
     "text": [
      "0.053717446574589434 0.05247077185852696\n",
      "0.5495181464014763 0.9622586408300694\n",
      "0.5495181464014763 0.4285257435241445 0.7657142857142857\n"
     ]
    }
   ],
   "source": [
    "X = target_data.drop(['is_edge', 'more_following', \n",
    "                      'more_followers', 'tweet_similarity',\n",
    "                      'tweet_freq_diff', 'more_tweets'], axis=1)\n",
    "y = target_data['is_edge']\n",
    "X_train, X_test, y_train, y_test = train_test_split(X, y, test_size=0.3, random_state=42)\n",
    "print(np.mean(y_test), np.mean(y_train))\n",
    "clf = RandomForestClassifier(random_state=0).fit(X_train, y_train)\n",
    "print(f1_score(y_test, clf.predict(X_test)), clf.score(X_test, y_test))\n",
    "#mean accuracy on the given test data and labels.\n",
    "pred = clf.predict(X_test)\n",
    "print(f1_score(y_test, pred), recall_score(y_test, pred), precision_score(y_test, pred))"
   ]
  },
  {
   "cell_type": "code",
   "execution_count": 104,
   "metadata": {},
   "outputs": [
    {
     "name": "stdout",
     "output_type": "stream",
     "text": [
      "0.053717446574589434 0.05247077185852696\n",
      "0.4869302225102614 0.9592008520579949\n"
     ]
    }
   ],
   "source": [
    "X = target_data.drop(['is_edge', 'more_following', \n",
    "                      'more_followers', 'tweet_similarity',\n",
    "                      'tweet_freq_diff', 'more_tweets',\n",
    "                      'sec_deg_following'], axis=1)\n",
    "y = target_data['is_edge']\n",
    "X_train, X_test, y_train, y_test = train_test_split(X, y, test_size=0.3, random_state=42)\n",
    "print(np.mean(y_test), np.mean(y_train))\n",
    "clf = RandomForestClassifier(random_state=0).fit(X_train, y_train)\n",
    "print(f1_score(y_test, clf.predict(X_test)), clf.score(X_test, y_test))\n",
    "#mean accuracy on the given test data and labels."
   ]
  },
  {
   "cell_type": "code",
   "execution_count": 109,
   "metadata": {},
   "outputs": [
    {
     "data": {
      "text/plain": [
       "(0.4869302225102614, 0.36040933802366487, 0.7503328894806924)"
      ]
     },
     "execution_count": 109,
     "metadata": {},
     "output_type": "execute_result"
    }
   ],
   "source": [
    "from sklearn.metrics import recall_score, precision_score\n",
    "pred = clf.predict(X_test)\n",
    "f1_score(y_test, pred), recall_score(y_test, pred), precision_score(y_test, pred)"
   ]
  },
  {
   "cell_type": "code",
   "execution_count": 108,
   "metadata": {},
   "outputs": [],
   "source": []
  },
  {
   "cell_type": "code",
   "execution_count": 61,
   "metadata": {},
   "outputs": [
    {
     "data": {
      "image/png": "[encoded data removed]",
      "text/plain": [
       "<Figure size 432x288 with 1 Axes>"
      ]
     },
     "metadata": {
      "needs_background": "light"
     },
     "output_type": "display_data"
    }
   ],
   "source": [
    "vis = sorted(list(zip(X.columns, clf.feature_importances_)), key = lambda x:x[1])\n",
    "ax = sns.barplot(x=[i[0] for i in vis], y=[i[1] for i in vis])\n",
    "ax.set_xticklabels(ax.get_xticklabels(), rotation=90)\n",
    "plt.show()"
   ]
  },
  {
   "cell_type": "code",
   "execution_count": 79,
   "metadata": {},
   "outputs": [
    {
     "data": {
      "text/plain": [
       "0.02089371794710867"
      ]
     },
     "execution_count": 79,
     "metadata": {},
     "output_type": "execute_result"
    }
   ],
   "source": [
    "X['sec_deg_following'].mean()"
   ]
  },
  {
   "cell_type": "code",
   "execution_count": 84,
   "metadata": {},
   "outputs": [
    {
     "data": {
      "text/plain": [
       "Text(0.5, 1.0, '2-class Precision-Recall curve: AP=0.32')"
      ]
     },
     "execution_count": 84,
     "metadata": {},
     "output_type": "execute_result"
    },
    {
     "data": {
      "image/png": "[encoded data removed]",
      "text/plain": [
       "<Figure size 432x288 with 1 Axes>"
      ]
     },
     "metadata": {
      "needs_background": "light"
     },
     "output_type": "display_data"
    }
   ],
   "source": [
    "from sklearn.metrics import precision_recall_curve\n",
    "from sklearn.metrics import plot_precision_recall_curve\n",
    "from sklearn.metrics import average_precision_score\n",
    "\n",
    "y_score = clf.predict(X_test)\n",
    "average_precision = average_precision_score(y_test, y_score)\n",
    "\n",
    "disp = plot_precision_recall_curve(clf, X_test, y_test)\n",
    "disp.ax_.set_title('2-class Precision-Recall curve: '\n",
    "                   'AP={0:0.2f}'.format(average_precision))"
   ]
  },
  {
   "cell_type": "code",
   "execution_count": 80,
   "metadata": {},
   "outputs": [
    {
     "name": "stdout",
     "output_type": "stream",
     "text": [
      "Optimization terminated successfully.\n",
      "         Current function value: 0.125706\n",
      "         Iterations 23\n",
      "                           Logit Regression Results                           \n",
      "==============================================================================\n",
      "Dep. Variable:                is_edge   No. Observations:               194040\n",
      "Model:                          Logit   Df Residuals:                   194007\n",
      "Method:                           MLE   Df Model:                           32\n",
      "Date:                Sat, 26 Sep 2020   Pseudo R-squ.:                  0.3922\n",
      "Time:                        11:56:45   Log-Likelihood:                -24392.\n",
      "converged:                       True   LL-Null:                       -40129.\n",
      "Covariance Type:            nonrobust   LLR p-value:                     0.000\n",
      "=====================================================================================\n",
      "                        coef    std err          z      P>|z|      [0.025      0.975]\n",
      "-------------------------------------------------------------------------------------\n",
      "const                -7.1182      0.560    -12.714      0.000      -8.216      -6.021\n",
      "num_opinions_y        0.9889      0.193      5.120      0.000       0.610       1.368\n",
      "num_testimony_y      -1.0719      0.242     -4.432      0.000      -1.546      -0.598\n",
      "num_press_y           0.4119      0.592      0.696      0.486      -0.747       1.571\n",
      "num_external_y        1.7935      0.161     11.136      0.000       1.478       2.109\n",
      "more_opinions        -1.4176      0.273     -5.186      0.000      -1.953      -0.882\n",
      "more_testimony        1.8085      0.360      5.030      0.000       1.104       2.513\n",
      "more_press            0.6488      1.064      0.610      0.542      -1.436       2.734\n",
      "more_external        -1.9706      0.244     -8.074      0.000      -2.449      -1.492\n",
      "is_resident_x         0.7294      0.034     21.526      0.000       0.663       0.796\n",
      "is_resident_y         0.3539      0.032     11.116      0.000       0.291       0.416\n",
      "is_senior_x          -0.3444      0.044     -7.830      0.000      -0.431      -0.258\n",
      "is_senior_y           0.3134      0.031      9.984      0.000       0.252       0.375\n",
      "is_leadership_x       0.0176      0.046      0.383      0.702      -0.073       0.108\n",
      "is_leadership_y       0.2177      0.035      6.159      0.000       0.148       0.287\n",
      "is_phd_x             -0.0799      0.040     -1.993      0.046      -0.158      -0.001\n",
      "is_phd_y             -0.0099      0.041     -0.240      0.810      -0.090       0.070\n",
      "is_law_x              0.0412      0.032      1.288      0.198      -0.021       0.104\n",
      "is_law_y             -0.0110      0.032     -0.347      0.728      -0.073       0.051\n",
      "share_institution     1.7198      0.039     44.503      0.000       1.644       1.796\n",
      "higher_rank          -0.2725      0.084     -3.256      0.001      -0.437      -0.108\n",
      "head                 -0.3002      0.080     -3.743      0.000      -0.457      -0.143\n",
      "more_tweets           0.9337      3.448      0.271      0.787      -5.825       7.692\n",
      "more_followers        0.6377      1.874      0.340      0.734      -3.036       4.311\n",
      "more_following    -1679.1494     92.361    -18.180      0.000   -1860.173   -1498.126\n",
      "tweet_freq_diff      -0.3942      0.067     -5.882      0.000      -0.526      -0.263\n",
      "tweet_similarity      2.2206      0.060     37.074      0.000       2.103       2.338\n",
      "higher_degree        -0.0894      0.053     -1.686      0.092      -0.193       0.015\n",
      "topic_similarity      1.9183      0.053     36.145      0.000       1.814       2.022\n",
      "sec_deg_following    17.1047      0.224     76.238      0.000      16.665      17.544\n",
      "is_aei_x             -1.4138      0.860     -1.644      0.100      -3.100       0.272\n",
      "is_cap_x              0.0511      0.040      1.278      0.201      -0.027       0.129\n",
      "is_heritage_x         0.5759      0.046     12.545      0.000       0.486       0.666\n",
      "=====================================================================================\n"
     ]
    },
    {
     "name": "stderr",
     "output_type": "stream",
     "text": [
      "/Users/chenliang/opt/anaconda3/envs/R-Python/lib/python3.6/site-packages/statsmodels/discrete/discrete_model.py:1799: RuntimeWarning: overflow encountered in exp\n",
      "  return 1/(1+np.exp(-X))\n"
     ]
    }
   ],
   "source": [
    "X = target_data.drop(['retweeted', 'at', 'share_links','is_edge'], axis=1)\n",
    "y = target_data['is_edge']\n",
    "\n",
    "X_const = sm.add_constant(X)\n",
    "logit = sm.Logit(y, X_const.astype(float)).fit()\n",
    "print(logit.summary())"
   ]
  },
  {
   "cell_type": "code",
   "execution_count": null,
   "metadata": {},
   "outputs": [],
   "source": []
  },
  {
   "cell_type": "code",
   "execution_count": 115,
   "metadata": {
    "scrolled": false
   },
   "outputs": [
    {
     "name": "stdout",
     "output_type": "stream",
     "text": [
      "Optimization terminated successfully.\n",
      "         Current function value: 0.125684\n",
      "         Iterations 10\n",
      "                           Logit Regression Results                           \n",
      "==============================================================================\n",
      "Dep. Variable:                is_edge   No. Observations:               194040\n",
      "Model:                          Logit   Df Residuals:                   194010\n",
      "Method:                           MLE   Df Model:                           29\n",
      "Date:                Sat, 26 Sep 2020   Pseudo R-squ.:                  0.3923\n",
      "Time:                        14:55:15   Log-Likelihood:                -24388.\n",
      "converged:                       True   LL-Null:                       -40129.\n",
      "Covariance Type:            nonrobust   LLR p-value:                     0.000\n",
      "======================================================================================\n",
      "                         coef    std err          z      P>|z|      [0.025      0.975]\n",
      "--------------------------------------------------------------------------------------\n",
      "const                 -7.1430      0.559    -12.776      0.000      -8.239      -6.047\n",
      "num_opinions_y         1.3601      0.194      7.020      0.000       0.980       1.740\n",
      "num_testimony_y       -1.4361      0.242     -5.932      0.000      -1.911      -0.962\n",
      "num_press_y            0.6689      0.593      1.128      0.259      -0.493       1.831\n",
      "num_external_y         1.6905      0.160     10.569      0.000       1.377       2.004\n",
      "more_opinions         -1.6064      0.277     -5.792      0.000      -2.150      -1.063\n",
      "more_testimony         2.7119      0.364      7.455      0.000       1.999       3.425\n",
      "more_press             0.0546      1.065      0.051      0.959      -2.033       2.143\n",
      "more_external         -1.8726      0.242     -7.732      0.000      -2.347      -1.398\n",
      "is_resident_x          0.7880      0.034     23.302      0.000       0.722       0.854\n",
      "is_resident_y          0.3256      0.032     10.185      0.000       0.263       0.388\n",
      "is_senior_x           -0.3731      0.044     -8.422      0.000      -0.460      -0.286\n",
      "is_senior_y            0.3589      0.032     11.352      0.000       0.297       0.421\n",
      "is_leadership_x        0.0307      0.046      0.660      0.509      -0.060       0.122\n",
      "is_leadership_y        0.2766      0.036      7.752      0.000       0.207       0.347\n",
      "is_phd_x              -0.0738      0.041     -1.821      0.069      -0.153       0.006\n",
      "is_phd_y              -0.0631      0.041     -1.545      0.122      -0.143       0.017\n",
      "is_law_x               0.0262      0.032      0.815      0.415      -0.037       0.089\n",
      "is_law_y               0.0384      0.032      1.216      0.224      -0.023       0.100\n",
      "share_institution      1.8378      0.039     47.349      0.000       1.762       1.914\n",
      "higher_rank           -0.3191      0.084     -3.795      0.000      -0.484      -0.154\n",
      "head                  -0.2942      0.080     -3.656      0.000      -0.452      -0.136\n",
      "higher_degree         -0.0218      0.053     -0.410      0.682      -0.126       0.082\n",
      "topic_similarity      -0.1307      0.082     -1.593      0.111      -0.292       0.030\n",
      "sec_deg_following     15.1242      0.207     72.941      0.000      14.718      15.531\n",
      "is_aei_x              -1.8406      0.847     -2.173      0.030      -3.501      -0.180\n",
      "is_cap_x               0.0348      0.040      0.863      0.388      -0.044       0.114\n",
      "is_heritage_x          0.5772      0.046     12.511      0.000       0.487       0.668\n",
      "topic_similarity^2     2.4194      0.097     24.994      0.000       2.230       2.609\n",
      "tweet_similarity^2     2.5825      0.059     43.839      0.000       2.467       2.698\n",
      "======================================================================================\n"
     ]
    }
   ],
   "source": [
    "X = target_data.drop(['is_edge', \n",
    "                      #'num_followers_x','num_followers_y',\n",
    "                      #'num_following_y', 'num_following_x', \n",
    "                      #'num_opinions_x', 'num_testimony_x', \n",
    "                      #'tweet_freq_x', 'tweet_freq_y',\n",
    "                      #'num_press_x', 'num_external_x',\n",
    "                    'more_tweets', 'more_followers', 'more_following',\n",
    "                      'tweet_freq_diff', 'tweet_similarity',\n",
    "                      'retweeted', 'at', 'share_links'\n",
    "                      ], axis=1)\n",
    "y = target_data['is_edge']\n",
    "\n",
    "X_const = sm.add_constant(X)\n",
    "logit = sm.Logit(y, X_const.astype(float)).fit()\n",
    "print(logit.summary())"
   ]
  },
  {
   "cell_type": "code",
   "execution_count": 28,
   "metadata": {},
   "outputs": [
    {
     "data": {
      "text/plain": [
       "Series([], Name: tweet_freq_x, dtype: float64)"
      ]
     },
     "execution_count": 28,
     "metadata": {},
     "output_type": "execute_result"
    }
   ],
   "source": [
    "X['tweet_freq_x'][X['tweet_freq_x'].isna()]"
   ]
  },
  {
   "cell_type": "code",
   "execution_count": 9,
   "metadata": {},
   "outputs": [],
   "source": [
    "from sklearn import feature_selection as fs\n",
    "from sklearn.feature_selection import SelectKBest, chi2\n",
    "import warnings\n",
    "warnings.filterwarnings(\"ignore\")"
   ]
  },
  {
   "cell_type": "code",
   "execution_count": 57,
   "metadata": {},
   "outputs": [
    {
     "name": "stdout",
     "output_type": "stream",
     "text": [
      "10 0.35471698113207545 0.9483045296518365\n",
      "11 0.349320882852292 0.9485060714465662\n",
      "12 0.3419243986254296 0.9485396617456878\n",
      "13 0.34383202099737536 0.9496145513175794\n",
      "14 0.3453427065026362 0.9499504543087957\n",
      "15 0.34299516908212563 0.9497489125140659\n",
      "16 0.348334054521852 0.9494130095228498\n",
      "17 0.34155929242192623 0.9493626240741674\n",
      "18 0.3435097737755326 0.9497992979627483\n",
      "19 0.34661354581673304 0.9504207184964982\n",
      "20 0.3968789540278363 0.9519658722560924\n",
      "21 0.3962465344423118 0.9524529315933559\n",
      "22 0.4143459915611814 0.9533766648192002\n",
      "23 0.42387178405735976 0.9541156513998758\n",
      "24 0.43584350021034923 0.9549554088779161\n",
      "25 0.44153686396677055 0.9548378428309904\n",
      "26 0.4337148803329865 0.9543003980450446\n",
      "27 0.4308077645585473 0.9541996271476797\n"
     ]
    }
   ],
   "source": [
    "for i in range(10, 28):\n",
    "    sel_f = SelectKBest(fs.f_classif, k=i)\n",
    "    X_train_f = sel_f.fit_transform(X_train, y_train)\n",
    "    X_test_f = sel_f.transform(X_test)\n",
    "    #print(X.columns[sel_f.get_support()])\n",
    "    clf = RandomForestClassifier(random_state=0).fit(X_train_f, y_train)\n",
    "    print(i, f1_score(y_test, clf.predict(X_test_f)), \n",
    "          clf.score(X_test_f, y_test))"
   ]
  },
  {
   "cell_type": "code",
   "execution_count": 260,
   "metadata": {
    "scrolled": true
   },
   "outputs": [
    {
     "data": {
      "text/plain": [
       "<AxesSubplot:xlabel='is_edge', ylabel='topic_similarity'>"
      ]
     },
     "execution_count": 260,
     "metadata": {},
     "output_type": "execute_result"
    },
    {
     "data": {
      "image/png": "[encoded data removed]",
      "text/plain": [
       "<Figure size 432x288 with 1 Axes>"
      ]
     },
     "metadata": {
      "needs_background": "light"
     },
     "output_type": "display_data"
    }
   ],
   "source": [
    "sns.boxplot(y='topic_similarity', x='is_edge', data= target_data)"
   ]
  },
  {
   "cell_type": "code",
   "execution_count": 19,
   "metadata": {},
   "outputs": [
    {
     "name": "stdout",
     "output_type": "stream",
     "text": [
      "Fitting 3 folds for each of 100 candidates, totalling 300 fits\n"
     ]
    },
    {
     "name": "stderr",
     "output_type": "stream",
     "text": [
      "[Parallel(n_jobs=-1)]: Using backend LokyBackend with 8 concurrent workers.\n",
      "[Parallel(n_jobs=-1)]: Done  25 tasks      | elapsed: 29.8min\n",
      "[Parallel(n_jobs=-1)]: Done 146 tasks      | elapsed: 128.5min\n",
      "[Parallel(n_jobs=-1)]: Done 300 out of 300 | elapsed: 273.7min finished\n"
     ]
    },
    {
     "data": {
      "text/plain": [
       "RandomizedSearchCV(cv=3, estimator=RandomForestClassifier(), n_iter=100,\n",
       "                   n_jobs=-1,\n",
       "                   param_distributions={'max_depth': [10, 20, 30, 40, 50, 60,\n",
       "                                                      70, 80, 90, 100, 110,\n",
       "                                                      None],\n",
       "                                        'max_features': ['auto', 'sqrt'],\n",
       "                                        'min_samples_leaf': [1, 2, 4],\n",
       "                                        'min_samples_split': [2, 5, 10],\n",
       "                                        'n_estimators': [200, 400, 600, 800,\n",
       "                                                         1000, 1200, 1400, 1600,\n",
       "                                                         1800, 2000]},\n",
       "                   random_state=42, verbose=2)"
      ]
     },
     "execution_count": 19,
     "metadata": {},
     "output_type": "execute_result"
    }
   ],
   "source": [
    "from sklearn.model_selection import RandomizedSearchCV\n",
    "n_estimators = [int(x) for x in np.linspace(start = 200, stop = 2000, num = 10)]\n",
    "max_features = ['auto', 'sqrt']\n",
    "max_depth = [int(x) for x in np.linspace(10, 110, num = 11)]\n",
    "max_depth.append(None)\n",
    "min_samples_split = [2, 5, 10]\n",
    "min_samples_leaf = [1, 2, 4]\n",
    "\n",
    "random_grid = {'n_estimators': n_estimators,\n",
    "               'max_features': max_features,\n",
    "               'max_depth': max_depth,\n",
    "               'min_samples_split': min_samples_split,\n",
    "               'min_samples_leaf': min_samples_leaf}\n",
    "\n",
    "rf = RandomForestClassifier()\n",
    "rf_random = RandomizedSearchCV(estimator = rf, \n",
    "                               param_distributions = random_grid, \n",
    "                               n_iter = 100, cv = 3, verbose=2, \n",
    "                               random_state=42, n_jobs = -1)\n",
    "rf_random.fit(X_train, y_train)"
   ]
  },
  {
   "cell_type": "code",
   "execution_count": 20,
   "metadata": {},
   "outputs": [
    {
     "data": {
      "text/plain": [
       "{'n_estimators': 1400,\n",
       " 'min_samples_split': 2,\n",
       " 'min_samples_leaf': 1,\n",
       " 'max_features': 'sqrt',\n",
       " 'max_depth': 100}"
      ]
     },
     "execution_count": 20,
     "metadata": {},
     "output_type": "execute_result"
    }
   ],
   "source": [
    "rf_random.best_params_"
   ]
  },
  {
   "cell_type": "code",
   "execution_count": 21,
   "metadata": {},
   "outputs": [
    {
     "data": {
      "text/plain": [
       "0.4589656240322081"
      ]
     },
     "execution_count": 21,
     "metadata": {},
     "output_type": "execute_result"
    }
   ],
   "source": [
    "f1_score(y_test, rf_random.best_estimator_.predict(X_test))"
   ]
  },
  {
   "cell_type": "code",
   "execution_count": null,
   "metadata": {},
   "outputs": [],
   "source": [
    "rf_random.best_estimator_.score(X_test, y_test)"
   ]
  },
  {
   "cell_type": "code",
   "execution_count": null,
   "metadata": {},
   "outputs": [],
   "source": []
  }
 ],
 "metadata": {
  "kernelspec": {
   "display_name": "Python 3",
   "language": "python",
   "name": "python3"
  },
  "language_info": {
   "codemirror_mode": {
    "name": "ipython",
    "version": 3
   },
   "file_extension": ".py",
   "mimetype": "text/x-python",
   "name": "python",
   "nbconvert_exporter": "python",
   "pygments_lexer": "ipython3",
   "version": "3.6.9"
  }
 },
 "nbformat": 4,
 "nbformat_minor": 4
}
