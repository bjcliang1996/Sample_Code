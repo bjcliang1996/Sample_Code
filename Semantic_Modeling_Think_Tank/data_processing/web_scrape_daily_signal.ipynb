{
 "cells": [
  {
   "cell_type": "code",
   "execution_count": 1,
   "metadata": {},
   "outputs": [],
   "source": [
    "import requests \n",
    "import bs4 \n",
    "import pandas as pd\n",
    "import re\n",
    "import numpy as np\n",
    "import json"
   ]
  },
  {
   "cell_type": "markdown",
   "metadata": {},
   "source": [
    "## Get Target Links"
   ]
  },
  {
   "cell_type": "code",
   "execution_count": 2,
   "metadata": {},
   "outputs": [],
   "source": [
    "categories = ['topics-economy', 'education', 'energy', 'topics-health-care',\n",
    "              'international', 'topics-law', 'politics-topics', 'security',\n",
    "              'topics-society']\n",
    "## from https://www.dailysignal.com/"
   ]
  },
  {
   "cell_type": "code",
   "execution_count": null,
   "metadata": {},
   "outputs": [],
   "source": [
    "link_collection = dict()\n",
    "for cat in categories:  \n",
    "    print(cat)\n",
    "    i = 0\n",
    "    link_collection[cat] = []\n",
    "    \n",
    "    url = f\"https://www.dailysignal.com/category/{cat}/page/{i}\"\n",
    "    r = requests.get(url)\n",
    "    \n",
    "    while r.status_code != 404:\n",
    "        print(i, end = '\\r')\n",
    "        sp = bs4.BeautifulSoup(r.text, \"html.parser\").body.findAll('a')\n",
    "        link_collection[cat].extend(set([i.get('href') for i in sp]))\n",
    "    \n",
    "        i += 1\n",
    "        url = f\"https://www.dailysignal.com/category/{cat}/page/{i}\"\n",
    "        r = requests.get(url)"
   ]
  },
  {
   "cell_type": "code",
   "execution_count": null,
   "metadata": {},
   "outputs": [],
   "source": [
    "cat_lst, link_lst = [], []\n",
    "for i in categories:\n",
    "    for j in link_collection[i]:\n",
    "        cat_lst.append(i)\n",
    "        link_lst.append(j)\n",
    "href = pd.DataFrame({'category': cat_lst, 'urls': link_lst})\n",
    "href.to_csv('raw_href.csv', index=False)"
   ]
  },
  {
   "cell_type": "markdown",
   "metadata": {},
   "source": [
    "## Clean Links"
   ]
  },
  {
   "cell_type": "code",
   "execution_count": 3,
   "metadata": {},
   "outputs": [],
   "source": [
    "data = pd.read_csv('raw_href.csv')"
   ]
  },
  {
   "cell_type": "code",
   "execution_count": 4,
   "metadata": {},
   "outputs": [],
   "source": [
    "href = dict(zip(data['urls'], data['category']))\n",
    "href = {i:href[i] for i in href if len(i.split('/')) > 3 and \n",
    "        i.split('/')[3].isnumeric()}"
   ]
  },
  {
   "cell_type": "code",
   "execution_count": 5,
   "metadata": {},
   "outputs": [
    {
     "data": {
      "text/html": [
       "<div>\n",
       "<style scoped>\n",
       "    .dataframe tbody tr th:only-of-type {\n",
       "        vertical-align: middle;\n",
       "    }\n",
       "\n",
       "    .dataframe tbody tr th {\n",
       "        vertical-align: top;\n",
       "    }\n",
       "\n",
       "    .dataframe thead th {\n",
       "        text-align: right;\n",
       "    }\n",
       "</style>\n",
       "<table border=\"1\" class=\"dataframe\">\n",
       "  <thead>\n",
       "    <tr style=\"text-align: right;\">\n",
       "      <th></th>\n",
       "      <th>urls</th>\n",
       "      <th>category</th>\n",
       "    </tr>\n",
       "  </thead>\n",
       "  <tbody>\n",
       "    <tr>\n",
       "      <th>0</th>\n",
       "      <td>https://www.dailysignal.com/2020/02/28/white-h...</td>\n",
       "      <td>topics-economy</td>\n",
       "    </tr>\n",
       "    <tr>\n",
       "      <th>1</th>\n",
       "      <td>https://www.dailysignal.com/2020/03/04/without...</td>\n",
       "      <td>topics-economy</td>\n",
       "    </tr>\n",
       "    <tr>\n",
       "      <th>2</th>\n",
       "      <td>https://www.dailysignal.com/2020/03/04/sanders...</td>\n",
       "      <td>topics-economy</td>\n",
       "    </tr>\n",
       "    <tr>\n",
       "      <th>3</th>\n",
       "      <td>https://www.dailysignal.com/2020/03/02/epa-nee...</td>\n",
       "      <td>topics-economy</td>\n",
       "    </tr>\n",
       "    <tr>\n",
       "      <th>4</th>\n",
       "      <td>https://www.dailysignal.com/2020/02/29/budget-...</td>\n",
       "      <td>topics-economy</td>\n",
       "    </tr>\n",
       "  </tbody>\n",
       "</table>\n",
       "</div>"
      ],
      "text/plain": [
       "                                                urls        category\n",
       "0  https://www.dailysignal.com/2020/02/28/white-h...  topics-economy\n",
       "1  https://www.dailysignal.com/2020/03/04/without...  topics-economy\n",
       "2  https://www.dailysignal.com/2020/03/04/sanders...  topics-economy\n",
       "3  https://www.dailysignal.com/2020/03/02/epa-nee...  topics-economy\n",
       "4  https://www.dailysignal.com/2020/02/29/budget-...  topics-economy"
      ]
     },
     "execution_count": 5,
     "metadata": {},
     "output_type": "execute_result"
    }
   ],
   "source": [
    "data = pd.DataFrame({'urls': list(href), 'category': list(href.values())})\n",
    "data.to_csv('daily_signal_urls.csv', index=False)\n",
    "data.head()"
   ]
  },
  {
   "cell_type": "code",
   "execution_count": 6,
   "metadata": {},
   "outputs": [
    {
     "data": {
      "text/plain": [
       "((30672, 2), 30672)"
      ]
     },
     "execution_count": 6,
     "metadata": {},
     "output_type": "execute_result"
    }
   ],
   "source": [
    "data.shape, len(set(data['urls'])) ## all urls fall into exact one category"
   ]
  },
  {
   "cell_type": "markdown",
   "metadata": {},
   "source": [
    "## Scrape Pages from Urls, Get Soup"
   ]
  },
  {
   "cell_type": "code",
   "execution_count": 8,
   "metadata": {},
   "outputs": [
    {
     "data": {
      "text/plain": [
       "30672"
      ]
     },
     "execution_count": 8,
     "metadata": {},
     "output_type": "execute_result"
    }
   ],
   "source": [
    "from requests.exceptions import MissingSchema\n",
    "urls = list(data['urls'])\n",
    "len(urls)"
   ]
  },
  {
   "cell_type": "code",
   "execution_count": 14,
   "metadata": {},
   "outputs": [
    {
     "name": "stdout",
     "output_type": "stream",
     "text": [
      "30670\r"
     ]
    }
   ],
   "source": [
    "soup_dict = dict()\n",
    "wrong_url = []\n",
    "start = 0\n",
    "\n",
    "for ind, url in enumerate(urls):\n",
    "    if ind < start: continue ## rerun when interrupted\n",
    "    if ind % 10 == 0: print(ind, end = '\\r')\n",
    "    try: r = requests.get(url.split('?')[0])\n",
    "    except MissingSchema:\n",
    "        wrong_url.append(url)\n",
    "        continue\n",
    "    soup = bs4.BeautifulSoup(r.text, 'html.parser')\n",
    "    soup_dict[ind] = soup"
   ]
  },
  {
   "cell_type": "code",
   "execution_count": 98,
   "metadata": {},
   "outputs": [
    {
     "data": {
      "text/plain": [
       "[]"
      ]
     },
     "execution_count": 98,
     "metadata": {},
     "output_type": "execute_result"
    }
   ],
   "source": [
    "wrong_url"
   ]
  },
  {
   "cell_type": "markdown",
   "metadata": {},
   "source": [
    "## Get Text from Soup"
   ]
  },
  {
   "cell_type": "code",
   "execution_count": 15,
   "metadata": {},
   "outputs": [],
   "source": [
    "data['date'] = data['urls'].apply(lambda x: \"-\".join(x.split('/')[3:6]))"
   ]
  },
  {
   "cell_type": "code",
   "execution_count": 16,
   "metadata": {},
   "outputs": [
    {
     "name": "stdout",
     "output_type": "stream",
     "text": [
      "30670\r"
     ]
    }
   ],
   "source": [
    "texts = []\n",
    "for ind in soup_dict:\n",
    "    if ind % 10 == 0: print(ind, end = '\\r')\n",
    "    sp = soup_dict[ind].body.findAll('div',{'class':'tds-content'})\n",
    "    txt = \"\\n\".join([i.text.strip().replace(u'\\xa0', u' ') for i in sp])\n",
    "    texts.append(txt)\n",
    "data['text'] = texts"
   ]
  },
  {
   "cell_type": "code",
   "execution_count": 90,
   "metadata": {},
   "outputs": [
    {
     "name": "stdout",
     "output_type": "stream",
     "text": [
      "30671\r"
     ]
    }
   ],
   "source": [
    "authors = []\n",
    "for ind in soup_dict:\n",
    "    print(ind, end = '\\r')\n",
    "    cont = soup_dict[ind].body.find('script', {'type': 'application/ld+json'}).contents\n",
    "    cont = \"\".join(cont)\n",
    "    cont = cont.replace('\\r', '')\n",
    "    cont = cont.replace('\\n', '')\n",
    "    cont = cont.replace('\\t', '')\n",
    "    cont = cont[:cont.index('\"description\"')].strip().strip(',')+'}'\n",
    "    auth = json.loads(cont)['author']['name']\n",
    "    authors.append(auth)\n",
    "data['authors'] = authors"
   ]
  },
  {
   "cell_type": "code",
   "execution_count": 94,
   "metadata": {},
   "outputs": [],
   "source": [
    "data.to_csv('daily_signal_full_text.csv', index=False)"
   ]
  },
  {
   "cell_type": "code",
   "execution_count": null,
   "metadata": {},
   "outputs": [],
   "source": []
  }
 ],
 "metadata": {
  "kernelspec": {
   "display_name": "Python 3",
   "language": "python",
   "name": "python3"
  },
  "language_info": {
   "codemirror_mode": {
    "name": "ipython",
    "version": 3
   },
   "file_extension": ".py",
   "mimetype": "text/x-python",
   "name": "python",
   "nbconvert_exporter": "python",
   "pygments_lexer": "ipython3",
   "version": "3.7.0"
  }
 },
 "nbformat": 4,
 "nbformat_minor": 4
}
