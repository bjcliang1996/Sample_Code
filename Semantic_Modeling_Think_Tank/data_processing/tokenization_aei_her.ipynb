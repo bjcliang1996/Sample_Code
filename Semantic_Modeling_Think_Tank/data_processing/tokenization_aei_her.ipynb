{
 "cells": [
  {
   "cell_type": "code",
   "execution_count": 1,
   "metadata": {},
   "outputs": [],
   "source": [
    "import pandas as pd\n",
    "from nltk.corpus import stopwords\n",
    "from tools import *\n",
    "import nltk.data\n",
    "#nltk.download('stopwords')\n",
    "stopwords = set(stopwords.words('english'))\n",
    "tokenizer = nltk.data.load('tokenizers/punkt/english.pickle')"
   ]
  },
  {
   "cell_type": "code",
   "execution_count": 2,
   "metadata": {},
   "outputs": [],
   "source": [
    "#data_aei = pd.read_csv('cleaned_data/aei_clean_text.csv')\n",
    "data_aei = pd.read_csv('cleaned_data/heritage_clean_text.csv')"
   ]
  },
  {
   "cell_type": "code",
   "execution_count": 5,
   "metadata": {},
   "outputs": [],
   "source": [
    "data_aei = data_aei.dropna()\n",
    "data_aei.reset_index(drop=True, inplace=True)\n",
    "## split into sentences\n",
    "#data_aei['sent'] = data_aei['text'].apply(lambda x: [j for i in x.split('\\n') \n",
    "                                          #for j in tokenizer.tokenize(i)])\n",
    "\n",
    "data_aei['sent'] = data_aei['cleaned_text_sent'].apply(lambda x: [j for i in x.split('\\n') \n",
    "                                          for j in tokenizer.tokenize(i)])"
   ]
  },
  {
   "cell_type": "code",
   "execution_count": 6,
   "metadata": {},
   "outputs": [
    {
     "name": "stdout",
     "output_type": "stream",
     "text": [
      "0.9999\r"
     ]
    }
   ],
   "source": [
    "## token each sentences\n",
    "sent_token = []\n",
    "max_len = data_aei.shape[0]\n",
    "for ind, txt in enumerate(data_aei['sent']):\n",
    "    print(round(ind/max_len, 4), end = '\\r')\n",
    "    sent_token.append([normalizeTokens(i) for i in txt])"
   ]
  },
  {
   "cell_type": "code",
   "execution_count": 8,
   "metadata": {},
   "outputs": [],
   "source": [
    "data_aei['sent_token'] = sent_token\n",
    "data_aei['word_token'] = data_aei['sent_token'].apply(lambda x: [j for i in x for j in i])\n",
    "data_aei['Year'] = data_aei['date'].apply(lambda x: x[:4])"
   ]
  },
  {
   "cell_type": "code",
   "execution_count": 11,
   "metadata": {},
   "outputs": [],
   "source": [
    "data_aei['ind'] = data_aei.index\n",
    "data_aei['ind'] = data_aei['ind'].apply(lambda x: 'her'+str(x))\n",
    "#data_aei['text'] = data_aei['cleaned_text_sent']\n",
    "data_aei = data_aei[['ind', 'Year', 'text', 'sent_token', 'word_token']]"
   ]
  },
  {
   "cell_type": "code",
   "execution_count": 12,
   "metadata": {},
   "outputs": [
    {
     "data": {
      "text/html": [
       "<div>\n",
       "<style scoped>\n",
       "    .dataframe tbody tr th:only-of-type {\n",
       "        vertical-align: middle;\n",
       "    }\n",
       "\n",
       "    .dataframe tbody tr th {\n",
       "        vertical-align: top;\n",
       "    }\n",
       "\n",
       "    .dataframe thead th {\n",
       "        text-align: right;\n",
       "    }\n",
       "</style>\n",
       "<table border=\"1\" class=\"dataframe\">\n",
       "  <thead>\n",
       "    <tr style=\"text-align: right;\">\n",
       "      <th></th>\n",
       "      <th>ind</th>\n",
       "      <th>Year</th>\n",
       "      <th>text</th>\n",
       "      <th>sent_token</th>\n",
       "      <th>word_token</th>\n",
       "    </tr>\n",
       "  </thead>\n",
       "  <tbody>\n",
       "    <tr>\n",
       "      <th>0</th>\n",
       "      <td>her0</td>\n",
       "      <td>2014</td>\n",
       "      <td>Yesterday the Senate decided to take up legisl...</td>\n",
       "      <td>[[yesterday, senate, decide, legislation, exte...</td>\n",
       "      <td>[yesterday, senate, decide, legislation, exten...</td>\n",
       "    </tr>\n",
       "    <tr>\n",
       "      <th>1</th>\n",
       "      <td>her1</td>\n",
       "      <td>2018</td>\n",
       "      <td>The 2008 financial crisis was a major missed o...</td>\n",
       "      <td>[[financial, crisis, major, miss, opportunity]...</td>\n",
       "      <td>[financial, crisis, major, miss, opportunity, ...</td>\n",
       "    </tr>\n",
       "    <tr>\n",
       "      <th>2</th>\n",
       "      <td>her2</td>\n",
       "      <td>2015</td>\n",
       "      <td>It hasn't gotten much attention, but two big b...</td>\n",
       "      <td>[[get, attention, big, budget, showdown, loom,...</td>\n",
       "      <td>[get, attention, big, budget, showdown, loom, ...</td>\n",
       "    </tr>\n",
       "    <tr>\n",
       "      <th>3</th>\n",
       "      <td>her3</td>\n",
       "      <td>2011</td>\n",
       "      <td>The Obama Administration and Congress recently...</td>\n",
       "      <td>[[obama, administration, congress, recently, b...</td>\n",
       "      <td>[obama, administration, congress, recently, be...</td>\n",
       "    </tr>\n",
       "    <tr>\n",
       "      <th>4</th>\n",
       "      <td>her4</td>\n",
       "      <td>2005</td>\n",
       "      <td>On April 5, 2005, the Georgetown Public Policy...</td>\n",
       "      <td>[[april, georgetown, public, policy, institute...</td>\n",
       "      <td>[april, georgetown, public, policy, institute,...</td>\n",
       "    </tr>\n",
       "    <tr>\n",
       "      <th>...</th>\n",
       "      <td>...</td>\n",
       "      <td>...</td>\n",
       "      <td>...</td>\n",
       "      <td>...</td>\n",
       "      <td>...</td>\n",
       "    </tr>\n",
       "    <tr>\n",
       "      <th>16261</th>\n",
       "      <td>her16261</td>\n",
       "      <td>2013</td>\n",
       "      <td>Note: This article first appeared March 15, 20...</td>\n",
       "      <td>[[note, article, appear, march, spotlight, pov...</td>\n",
       "      <td>[note, article, appear, march, spotlight, pove...</td>\n",
       "    </tr>\n",
       "    <tr>\n",
       "      <th>16262</th>\n",
       "      <td>her16262</td>\n",
       "      <td>2009</td>\n",
       "      <td>With many states facing budget deficits, rest ...</td>\n",
       "      <td>[[state, face, budget, deficit, rest, stop, in...</td>\n",
       "      <td>[state, face, budget, deficit, rest, stop, int...</td>\n",
       "    </tr>\n",
       "    <tr>\n",
       "      <th>16263</th>\n",
       "      <td>her16263</td>\n",
       "      <td>2019</td>\n",
       "      <td>Wednesday marks the 18th anniversary of 9/11.\\...</td>\n",
       "      <td>[[wednesday, mark, 18th, anniversary], [day, t...</td>\n",
       "      <td>[wednesday, mark, 18th, anniversary, day, terr...</td>\n",
       "    </tr>\n",
       "    <tr>\n",
       "      <th>16264</th>\n",
       "      <td>her16264</td>\n",
       "      <td>2009</td>\n",
       "      <td>President Barack Obama has repeatedly claimed ...</td>\n",
       "      <td>[[president, barack, obama, repeatedly, claim,...</td>\n",
       "      <td>[president, barack, obama, repeatedly, claim, ...</td>\n",
       "    </tr>\n",
       "    <tr>\n",
       "      <th>16265</th>\n",
       "      <td>her16265</td>\n",
       "      <td>2015</td>\n",
       "      <td>I’m asked seemingly every day if America is th...</td>\n",
       "      <td>[[ask, seemingly, day, america, greece, detroi...</td>\n",
       "      <td>[ask, seemingly, day, america, greece, detroit...</td>\n",
       "    </tr>\n",
       "  </tbody>\n",
       "</table>\n",
       "<p>16266 rows × 5 columns</p>\n",
       "</div>"
      ],
      "text/plain": [
       "            ind  Year                                               text  \\\n",
       "0          her0  2014  Yesterday the Senate decided to take up legisl...   \n",
       "1          her1  2018  The 2008 financial crisis was a major missed o...   \n",
       "2          her2  2015  It hasn't gotten much attention, but two big b...   \n",
       "3          her3  2011  The Obama Administration and Congress recently...   \n",
       "4          her4  2005  On April 5, 2005, the Georgetown Public Policy...   \n",
       "...         ...   ...                                                ...   \n",
       "16261  her16261  2013  Note: This article first appeared March 15, 20...   \n",
       "16262  her16262  2009  With many states facing budget deficits, rest ...   \n",
       "16263  her16263  2019  Wednesday marks the 18th anniversary of 9/11.\\...   \n",
       "16264  her16264  2009  President Barack Obama has repeatedly claimed ...   \n",
       "16265  her16265  2015  I’m asked seemingly every day if America is th...   \n",
       "\n",
       "                                              sent_token  \\\n",
       "0      [[yesterday, senate, decide, legislation, exte...   \n",
       "1      [[financial, crisis, major, miss, opportunity]...   \n",
       "2      [[get, attention, big, budget, showdown, loom,...   \n",
       "3      [[obama, administration, congress, recently, b...   \n",
       "4      [[april, georgetown, public, policy, institute...   \n",
       "...                                                  ...   \n",
       "16261  [[note, article, appear, march, spotlight, pov...   \n",
       "16262  [[state, face, budget, deficit, rest, stop, in...   \n",
       "16263  [[wednesday, mark, 18th, anniversary], [day, t...   \n",
       "16264  [[president, barack, obama, repeatedly, claim,...   \n",
       "16265  [[ask, seemingly, day, america, greece, detroi...   \n",
       "\n",
       "                                              word_token  \n",
       "0      [yesterday, senate, decide, legislation, exten...  \n",
       "1      [financial, crisis, major, miss, opportunity, ...  \n",
       "2      [get, attention, big, budget, showdown, loom, ...  \n",
       "3      [obama, administration, congress, recently, be...  \n",
       "4      [april, georgetown, public, policy, institute,...  \n",
       "...                                                  ...  \n",
       "16261  [note, article, appear, march, spotlight, pove...  \n",
       "16262  [state, face, budget, deficit, rest, stop, int...  \n",
       "16263  [wednesday, mark, 18th, anniversary, day, terr...  \n",
       "16264  [president, barack, obama, repeatedly, claim, ...  \n",
       "16265  [ask, seemingly, day, america, greece, detroit...  \n",
       "\n",
       "[16266 rows x 5 columns]"
      ]
     },
     "execution_count": 12,
     "metadata": {},
     "output_type": "execute_result"
    }
   ],
   "source": [
    "data_aei"
   ]
  },
  {
   "cell_type": "code",
   "execution_count": 13,
   "metadata": {},
   "outputs": [],
   "source": [
    "data_aei.to_csv('data/heritage_token.csv', index=False)"
   ]
  },
  {
   "cell_type": "code",
   "execution_count": null,
   "metadata": {},
   "outputs": [],
   "source": []
  }
 ],
 "metadata": {
  "kernelspec": {
   "display_name": "Python 3",
   "language": "python",
   "name": "python3"
  },
  "language_info": {
   "codemirror_mode": {
    "name": "ipython",
    "version": 3
   },
   "file_extension": ".py",
   "mimetype": "text/x-python",
   "name": "python",
   "nbconvert_exporter": "python",
   "pygments_lexer": "ipython3",
   "version": "3.7.0"
  }
 },
 "nbformat": 4,
 "nbformat_minor": 4
}
