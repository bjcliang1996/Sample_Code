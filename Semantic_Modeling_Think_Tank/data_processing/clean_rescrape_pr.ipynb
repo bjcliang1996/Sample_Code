{
 "cells": [
  {
   "cell_type": "code",
   "execution_count": 1,
   "metadata": {},
   "outputs": [],
   "source": [
    "import pandas as pd\n",
    "import numpy as np\n",
    "from collections import Counter\n",
    "import requests \n",
    "import bs4 \n",
    "import nltk.data\n",
    "from datetime import datetime\n",
    "tokenizer = nltk.data.load('tokenizers/punkt/english.pickle')"
   ]
  },
  {
   "cell_type": "code",
   "execution_count": 4,
   "metadata": {},
   "outputs": [],
   "source": [
    "data = pd.read_csv('raw_data/policy_review_full_text.csv')\n",
    "data['text'] = data['text'].apply(lambda x: x.strip() if isinstance(x, str) else 0)"
   ]
  },
  {
   "cell_type": "code",
   "execution_count": 6,
   "metadata": {},
   "outputs": [
    {
     "data": {
      "text/plain": [
       "[]"
      ]
     },
     "execution_count": 6,
     "metadata": {},
     "output_type": "execute_result"
    }
   ],
   "source": [
    "count = Counter(data['text'])\n",
    "[i for i in count if count[i] > 2]"
   ]
  },
  {
   "cell_type": "code",
   "execution_count": 8,
   "metadata": {},
   "outputs": [],
   "source": [
    "data['Sent'] = data['text'].apply(lambda x: [j for i in x.split('\\n') \n",
    "                                             for j in tokenizer.tokenize(i)])\n",
    "sent = data['Sent'].sum()\n",
    "count = Counter(sent)"
   ]
  },
  {
   "cell_type": "code",
   "execution_count": 29,
   "metadata": {},
   "outputs": [
    {
     "data": {
      "text/plain": [
       "[('.', 2727),\n",
       " ('$25.00', 13),\n",
       " ('Why?', 38),\n",
       " ('$35.00', 19),\n",
       " ('1.', 36),\n",
       " ('2.', 33),\n",
       " ('Most', 7),\n",
       " ('This', 11),\n",
       " ('The', 73),\n",
       " (' power.', 8),\n",
       " ('But', 20),\n",
       " ('In', 25),\n",
       " ('$26.95', 7),\n",
       " ('$24.95.', 7),\n",
       " ('”', 26),\n",
       " ('.\"', 6),\n",
       " ('3.', 28),\n",
       " ('4.', 24),\n",
       " ('5.', 17),\n",
       " ('As', 9),\n",
       " ('Harvard University Press.', 8),\n",
       " ('$27.95', 11),\n",
       " ('Tel.', 31),\n",
       " ('It', 14),\n",
       " ('$24.95', 11),\n",
       " ('.”', 8),\n",
       " ('Peter Berkowitz is the Tad and Dianne Taube Senior Fellow at the Hoover Institution, Stanford University.',\n",
       "  13),\n",
       " ('His writings are posted at www.PeterBerkowitz.com.', 17),\n",
       " ('\"', 11),\n",
       " ('$27.50', 6),\n",
       " ('And', 7),\n",
       " ('U.S.', 6),\n",
       " ('These', 6),\n",
       " (' government.', 8),\n",
       " (' world.', 6),\n",
       " ('For', 10),\n",
       " (' system.', 7),\n",
       " ('6.', 9),\n",
       " ('7.', 10),\n",
       " ('8.', 8),\n",
       " ('9.', 8),\n",
       " ('Rev.', 6),\n",
       " ('$30.00', 10),\n",
       " ('They', 12),\n",
       " ('He', 10),\n",
       " ('Bush.', 6),\n",
       " ('Perhaps.', 7),\n",
       " ('Henrik Bering is a writer and critic.', 9),\n",
       " ('A', 10),\n",
       " ('Oxford University Press.', 8),\n",
       " ('It is', 8),\n",
       " ('To', 8),\n",
       " ('$26.00', 15),\n",
       " ('304 pages.', 7),\n",
       " ('No.', 12),\n",
       " ('T', 8),\n",
       " ('I', 9),\n",
       " ('Notes', 9),\n",
       " ('$35.00.', 6),\n",
       " ('Doubleday.', 6),\n",
       " (' policy.', 7),\n",
       " ('10.', 6),\n",
       " ('$25.95', 6),\n",
       " ('To the Editor:', 28),\n",
       " ('$24.00', 8),\n",
       " ('Liam Julian is managing editor of Policy Review.', 9),\n",
       " ('When', 7),\n",
       " ('448 pages.', 6),\n",
       " ('100', 6),\n",
       " ('$27.00', 6),\n",
       " ('$29.95', 7),\n",
       " ('Return to Symposium Index', 13)]"
      ]
     },
     "execution_count": 29,
     "metadata": {},
     "output_type": "execute_result"
    }
   ],
   "source": [
    "[(i,count[i])  for i in count if count[i] > 5]"
   ]
  },
  {
   "cell_type": "code",
   "execution_count": 25,
   "metadata": {},
   "outputs": [],
   "source": [
    "def convert_time(st):\n",
    "    try: d = datetime.strptime(''.join(st.split(',')[1:]), ' %B %d %Y')\n",
    "    except ValueError: d = datetime.strptime(string, '%b. %d, %Y')\n",
    "    return d.strftime('%Y-%m-%d')"
   ]
  },
  {
   "cell_type": "code",
   "execution_count": 26,
   "metadata": {},
   "outputs": [],
   "source": [
    "data['date'] = data['date'].apply(convert_time)"
   ]
  },
  {
   "cell_type": "code",
   "execution_count": 30,
   "metadata": {},
   "outputs": [],
   "source": [
    "data = data[['url', 'text', 'author', 'date']]\n",
    "data.to_csv('policy_review_clean_text.csv', index=False)"
   ]
  },
  {
   "cell_type": "code",
   "execution_count": null,
   "metadata": {},
   "outputs": [],
   "source": []
  }
 ],
 "metadata": {
  "kernelspec": {
   "display_name": "Python 3",
   "language": "python",
   "name": "python3"
  },
  "language_info": {
   "codemirror_mode": {
    "name": "ipython",
    "version": 3
   },
   "file_extension": ".py",
   "mimetype": "text/x-python",
   "name": "python",
   "nbconvert_exporter": "python",
   "pygments_lexer": "ipython3",
   "version": "3.7.0"
  }
 },
 "nbformat": 4,
 "nbformat_minor": 4
}
