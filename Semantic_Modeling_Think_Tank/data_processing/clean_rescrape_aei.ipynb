{
 "cells": [
  {
   "cell_type": "code",
   "execution_count": 1,
   "metadata": {},
   "outputs": [],
   "source": [
    "import pandas as pd\n",
    "import numpy as np\n",
    "from collections import Counter\n",
    "import requests \n",
    "import bs4 \n",
    "import nltk.data\n",
    "tokenizer = nltk.data.load('tokenizers/punkt/english.pickle')"
   ]
  },
  {
   "cell_type": "markdown",
   "metadata": {},
   "source": [
    "## American Enterprise Institute"
   ]
  },
  {
   "cell_type": "code",
   "execution_count": 2,
   "metadata": {},
   "outputs": [],
   "source": [
    "data_aei = pd.read_csv('raw_data/aei_full_text.csv')\n",
    "data_aei['text'] = data_aei['text'].apply(lambda x: x.strip())"
   ]
  },
  {
   "cell_type": "code",
   "execution_count": 3,
   "metadata": {},
   "outputs": [],
   "source": [
    "drop_words = ['This statement is available here as an Adobe PDF.',\n",
    "              'This statement is available here\\xa0as an Adobe PDF.',\n",
    "              'Watch the latest video at foxnews.com',\n",
    "              'Watch the latest video at video.foxnews.com',\n",
    "              'Link.',\n",
    "              '4-Block World.',\n",
    "              'HT: Warren Smith',\n",
    "              'Read More',\n",
    "              'Read the PDF.',\n",
    "              'The collected papers for this conference can be found here.\\n Read the PDF.',\n",
    "              'Watch the latest video at video.foxbusiness.com',\n",
    "              'Read More\\nTags:\\nby Timothy P. Carney\\nFormat: Hardcover\\nISBN: 9780062797100\\nPublished by: HarperCollins']\n",
    "data_aei = data_aei[~data_aei['text'].isin(drop_words)]"
   ]
  },
  {
   "cell_type": "code",
   "execution_count": 4,
   "metadata": {},
   "outputs": [],
   "source": [
    "def check_target(x):\n",
    "    target = 'Originally posted at Carpe Diem.'\n",
    "    if x[1] != target: return x[1]\n",
    "    url = x[0]\n",
    "    r = requests.get(url)\n",
    "    sp = bs4.BeautifulSoup(r.text, \"html.parser\")\n",
    "    return '\\n'.join([i.text for i in sp.findAll('em')])\n",
    "\n",
    "data_aei['text_cleaned'] = data_aei[['url', 'text']].apply(check_target, axis = 1)"
   ]
  },
  {
   "cell_type": "code",
   "execution_count": 5,
   "metadata": {},
   "outputs": [],
   "source": [
    "def check_target(x):\n",
    "    target = ''\n",
    "    if x[1] != target: return x[1]\n",
    "    url = x[0]\n",
    "    r = requests.get(url)\n",
    "    sp = bs4.BeautifulSoup(r.text, \"html.parser\").findAll('span')\n",
    "    txt = \"\\n\".join([i.text.replace('\\n', ' ') for i in sp if i.text != ''])\n",
    "    try: txt = txt[:txt.index('Originally posted at')].strip()\n",
    "    except ValueError: pass\n",
    "    return '\\n'.join(txt)\n",
    "\n",
    "data_aei['text_cleaned'] = data_aei[['url', 'text_cleaned']].apply(check_target, axis = 1)"
   ]
  },
  {
   "cell_type": "code",
   "execution_count": 6,
   "metadata": {},
   "outputs": [],
   "source": [
    "def check_target(x):\n",
    "    target = 'Mark Falcoff is a resident scholar at the American Enterprise Institute.'\n",
    "    if x[1] != target: return x[1]\n",
    "    url = x[0]\n",
    "    r = requests.get(url)\n",
    "    sp = bs4.BeautifulSoup(r.text, \"html.parser\")\n",
    "    txt = [i.text for i in sp.findAll('p',{'class':\"MsoPlainText\"})]\n",
    "    if 'Notes' in txt: txt = txt[:txt.index('Notes')]\n",
    "    return '\\n'.join(txt)\n",
    "\n",
    "data_aei['text_cleaned'] = data_aei[['url', 'text_cleaned']].apply(check_target, axis = 1)"
   ]
  },
  {
   "cell_type": "code",
   "execution_count": 7,
   "metadata": {},
   "outputs": [],
   "source": [
    "def check_target(x):\n",
    "    target = 'Editor’s note: The next president is in for a rough welcome to the Oval Office given the list of immediate crises and slow-burning policy challenges, both foreign and domestic.\\xa0What should Washington do? Why should the average American care? We’ve set out to clearly define US strategic interests and provide actionable policy solutions to help the new administration build a 2017 agenda that strengthens American leadership abroad while bolstering prosperity at home.\\nWhat to Do: Policy Recommendations for 2017 is an ongoing project from AEI. Click here for access to the complete series, which addresses a wide range of issues from rebuilding America’s military to higher education reform to helping people find work.'\n",
    "    if x[1] != target: return x[1]\n",
    "    url = x[0]\n",
    "    r = requests.get(url)\n",
    "    sp = bs4.BeautifulSoup(r.text, \"html.parser\")\n",
    "    txt = [i.text for i in sp.findAll('p', {'class':['pagpag1','pagpag2','pagpag3']})]\n",
    "    return '\\n'.join(txt)\n",
    "\n",
    "data_aei['text_cleaned'] = data_aei[['url', 'text_cleaned']].apply(check_target, axis = 1)"
   ]
  },
  {
   "cell_type": "code",
   "execution_count": 8,
   "metadata": {},
   "outputs": [],
   "source": [
    "def check_target(x):\n",
    "    target = 'Tags:\\nby Dalibor Rohac\\nFormat: Hardcover\\nISBN: 9781442270640'\n",
    "    if x[1] != target: return x[1]\n",
    "    url = x[0]\n",
    "    r = requests.get(url)\n",
    "    sp = bs4.BeautifulSoup(r.text, \"html.parser\")\n",
    "    txt = [i.text for i in sp.findAll('p', {'class':'selectionShareable'})]\n",
    "    return '\\n'.join(txt)\n",
    "\n",
    "data_aei['text_cleaned'] = data_aei[['url', 'text_cleaned']].apply(check_target, axis = 1)"
   ]
  },
  {
   "cell_type": "code",
   "execution_count": 9,
   "metadata": {},
   "outputs": [],
   "source": [
    "data_aei = data_aei.drop_duplicates(['text_cleaned'])"
   ]
  },
  {
   "cell_type": "markdown",
   "metadata": {},
   "source": [
    "### Sentence Based Clean"
   ]
  },
  {
   "cell_type": "code",
   "execution_count": 10,
   "metadata": {},
   "outputs": [],
   "source": [
    "data_aei['Sent'] = data_aei['text_cleaned'].apply(lambda x: \n",
    "                                                  [j for i in x.split('\\n') \n",
    "                                                   for j in tokenizer.tokenize(i)])"
   ]
  },
  {
   "cell_type": "code",
   "execution_count": 13,
   "metadata": {},
   "outputs": [],
   "source": [
    "sent = data_aei['Sent'].sum()\n",
    "count = Counter(sent)"
   ]
  },
  {
   "cell_type": "code",
   "execution_count": 14,
   "metadata": {},
   "outputs": [
    {
     "data": {
      "text/plain": [
       "[('This title is currently out of print, but online booksellers sometimes have used copies available.',\n",
       "  155),\n",
       " ('See links below.', 146),\n",
       " ('Read the full PDF.', 709),\n",
       " ('Buy the book.', 568),\n",
       " ('Published by: AEI Press', 61),\n",
       " ('* * *', 180),\n",
       " ('Download the PDF', 231),\n",
       " ('Download the PDF.', 11),\n",
       " ('Click here to view the full book as an Adobe PDF.', 43),\n",
       " ('Walter Berns is a resident scholar at AEI.', 14)]"
      ]
     },
     "execution_count": 14,
     "metadata": {},
     "output_type": "execute_result"
    }
   ],
   "source": [
    "lst = [(i, count[i]) for i in count if count[i]>5 and len(i.split(' '))>1]\n",
    "lst[:10]"
   ]
  },
  {
   "cell_type": "code",
   "execution_count": 19,
   "metadata": {},
   "outputs": [],
   "source": [
    "pdf = set([j for j in count if 'PDF' in j])\n",
    "aei = set([j for j in count if ('at AEI' in j) and ('Scholar' in j)])\n",
    "sy  = set([j for j in count if 'School Year:' in j])\n",
    "\n",
    "drop_sent = [\n",
    "    'This title is currently out of print, but online booksellers sometimes have used copies available.',\n",
    "    'See links below.',\n",
    "    'Read more.',\n",
    "    'Buy the book.',\n",
    "    'Read the full book.',\n",
    "    'I.',\n",
    "    '* * *',\n",
    "    'Published by: AEI Press',\n",
    "    'All rights reserved.'\n",
    "]\n",
    "drop_sent.extend(list(pdf) + list(aei) + list(sy))"
   ]
  },
  {
   "cell_type": "code",
   "execution_count": 20,
   "metadata": {},
   "outputs": [],
   "source": [
    "data_aei['cleaned_sent'] = data_aei['Sent'].apply(lambda x: \n",
    "                                                  [i for i in x if i not in drop_sent])\n",
    "data_aei['text'] = data_aei['cleaned_sent'].apply(lambda x: \"\\n\".join(x))"
   ]
  },
  {
   "cell_type": "code",
   "execution_count": 26,
   "metadata": {},
   "outputs": [],
   "source": [
    "data_aei = data_aei[['url', 'text', 'author', 'date', 'section']]"
   ]
  },
  {
   "cell_type": "code",
   "execution_count": 28,
   "metadata": {},
   "outputs": [],
   "source": [
    "data_aei.to_csv('aei_cleaned_text.csv', index=False)"
   ]
  },
  {
   "cell_type": "code",
   "execution_count": null,
   "metadata": {},
   "outputs": [],
   "source": []
  },
  {
   "cell_type": "code",
   "execution_count": null,
   "metadata": {},
   "outputs": [],
   "source": []
  }
 ],
 "metadata": {
  "kernelspec": {
   "display_name": "Python 3",
   "language": "python",
   "name": "python3"
  },
  "language_info": {
   "codemirror_mode": {
    "name": "ipython",
    "version": 3
   },
   "file_extension": ".py",
   "mimetype": "text/x-python",
   "name": "python",
   "nbconvert_exporter": "python",
   "pygments_lexer": "ipython3",
   "version": "3.7.0"
  }
 },
 "nbformat": 4,
 "nbformat_minor": 4
}
