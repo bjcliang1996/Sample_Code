{
 "cells": [
  {
   "cell_type": "code",
   "execution_count": 12,
   "metadata": {},
   "outputs": [],
   "source": [
    "import pandas as pd\n",
    "from nltk.corpus import stopwords\n",
    "from tools import *\n",
    "import nltk.data\n",
    "#nltk.download('stopwords')\n",
    "stopwords = set(stopwords.words('english'))\n",
    "tokenizer = nltk.data.load('tokenizers/punkt/english.pickle')"
   ]
  },
  {
   "cell_type": "code",
   "execution_count": 4,
   "metadata": {},
   "outputs": [],
   "source": [
    "data_aei = pd.read_csv('cleaned_data/aei_clean_text.csv')\n",
    "data_hrg = pd.read_csv('cleaned_data/heritage_clean_text.csv')\n",
    "data_pr = pd.read_csv('cleaned_data/policy_review_clean_text.csv')\n",
    "data_sig = pd.read_csv('cleaned_data/signal_clean_text.csv')"
   ]
  },
  {
   "cell_type": "code",
   "execution_count": 17,
   "metadata": {},
   "outputs": [],
   "source": [
    "data_pr = data_pr.dropna()\n",
    "## split into sentences\n",
    "data_pr['sent'] = data_pr['text'].apply(lambda x: [j for i in x.split('\\n') \n",
    "                                        for j in tokenizer.tokenize(i)])"
   ]
  },
  {
   "cell_type": "code",
   "execution_count": 22,
   "metadata": {},
   "outputs": [
    {
     "name": "stdout",
     "output_type": "stream",
     "text": [
      "0.9988\r"
     ]
    }
   ],
   "source": [
    "## token each sentences\n",
    "sent_token = []\n",
    "max_len = data_pr.shape[0]\n",
    "for ind, txt in enumerate(data_pr['sent']):\n",
    "    print(round(ind/max_len, 4), end = '\\r')\n",
    "    sent_token.append([normalizeTokens(i) for i in txt])"
   ]
  },
  {
   "cell_type": "code",
   "execution_count": 23,
   "metadata": {},
   "outputs": [],
   "source": [
    "data_pr['sent_token'] = sent_token\n",
    "data_pr['word_token'] = data_pr['sent_token'].apply(lambda x: [j for i in x for j in i])"
   ]
  },
  {
   "cell_type": "code",
   "execution_count": 24,
   "metadata": {},
   "outputs": [],
   "source": [
    "data_pr['Year'] = data_pr['date'].apply(lambda x: x[:4])\n",
    "data_pr.to_csv('cleaned_data/pr_clean_text.csv', index=False)"
   ]
  },
  {
   "cell_type": "code",
   "execution_count": 27,
   "metadata": {},
   "outputs": [],
   "source": [
    "data_pr['ind'] = data_pr.index\n",
    "data_pr['ind'] = data_pr['ind'].apply(lambda x: 'sig'+str(x))\n",
    "data_pr = data_pr[['ind', 'Year', 'text', 'sent_token', 'word_token']]"
   ]
  },
  {
   "cell_type": "code",
   "execution_count": 30,
   "metadata": {},
   "outputs": [],
   "source": [
    "data_pr.to_csv('data/pr_token.csv', index=False)"
   ]
  },
  {
   "cell_type": "code",
   "execution_count": 31,
   "metadata": {},
   "outputs": [
    {
     "data": {
      "text/html": [
       "<div>\n",
       "<style scoped>\n",
       "    .dataframe tbody tr th:only-of-type {\n",
       "        vertical-align: middle;\n",
       "    }\n",
       "\n",
       "    .dataframe tbody tr th {\n",
       "        vertical-align: top;\n",
       "    }\n",
       "\n",
       "    .dataframe thead th {\n",
       "        text-align: right;\n",
       "    }\n",
       "</style>\n",
       "<table border=\"1\" class=\"dataframe\">\n",
       "  <thead>\n",
       "    <tr style=\"text-align: right;\">\n",
       "      <th></th>\n",
       "      <th>ind</th>\n",
       "      <th>Year</th>\n",
       "      <th>text</th>\n",
       "      <th>sent_token</th>\n",
       "      <th>word_token</th>\n",
       "    </tr>\n",
       "  </thead>\n",
       "  <tbody>\n",
       "    <tr>\n",
       "      <th>0</th>\n",
       "      <td>sig0</td>\n",
       "      <td>1999</td>\n",
       "      <td>The untold story of special education\\nOne of ...</td>\n",
       "      <td>[[untold, story, special, education], [common,...</td>\n",
       "      <td>[untold, story, special, education, common, ar...</td>\n",
       "    </tr>\n",
       "    <tr>\n",
       "      <th>1</th>\n",
       "      <td>sig1</td>\n",
       "      <td>1995</td>\n",
       "      <td>In 1992 and 1993, former U.S. Attorney General...</td>\n",
       "      <td>[[u.s, attorney, general, richard, thornburgh,...</td>\n",
       "      <td>[u.s, attorney, general, richard, thornburgh, ...</td>\n",
       "    </tr>\n",
       "    <tr>\n",
       "      <th>2</th>\n",
       "      <td>sig2</td>\n",
       "      <td>2002</td>\n",
       "      <td>The former u.s. ambassador to the Court of St....</td>\n",
       "      <td>[[u.s, ambassador, court, st, james, ray, seit...</td>\n",
       "      <td>[u.s, ambassador, court, st, james, ray, seitz...</td>\n",
       "    </tr>\n",
       "    <tr>\n",
       "      <th>3</th>\n",
       "      <td>sig3</td>\n",
       "      <td>1998</td>\n",
       "      <td>In two recent reports, elite opinion is divide...</td>\n",
       "      <td>[[recent, report, elite, opinion, divide, prop...</td>\n",
       "      <td>[recent, report, elite, opinion, divide, prope...</td>\n",
       "    </tr>\n",
       "    <tr>\n",
       "      <th>4</th>\n",
       "      <td>sig4</td>\n",
       "      <td>2003</td>\n",
       "      <td>Thomas E. Patterson.The Vanishing Voter: Publi...</td>\n",
       "      <td>[[thomas, e., patterson.the, vanish, voter, pu...</td>\n",
       "      <td>[thomas, e., patterson.the, vanish, voter, pub...</td>\n",
       "    </tr>\n",
       "  </tbody>\n",
       "</table>\n",
       "</div>"
      ],
      "text/plain": [
       "    ind  Year                                               text  \\\n",
       "0  sig0  1999  The untold story of special education\\nOne of ...   \n",
       "1  sig1  1995  In 1992 and 1993, former U.S. Attorney General...   \n",
       "2  sig2  2002  The former u.s. ambassador to the Court of St....   \n",
       "3  sig3  1998  In two recent reports, elite opinion is divide...   \n",
       "4  sig4  2003  Thomas E. Patterson.The Vanishing Voter: Publi...   \n",
       "\n",
       "                                          sent_token  \\\n",
       "0  [[untold, story, special, education], [common,...   \n",
       "1  [[u.s, attorney, general, richard, thornburgh,...   \n",
       "2  [[u.s, ambassador, court, st, james, ray, seit...   \n",
       "3  [[recent, report, elite, opinion, divide, prop...   \n",
       "4  [[thomas, e., patterson.the, vanish, voter, pu...   \n",
       "\n",
       "                                          word_token  \n",
       "0  [untold, story, special, education, common, ar...  \n",
       "1  [u.s, attorney, general, richard, thornburgh, ...  \n",
       "2  [u.s, ambassador, court, st, james, ray, seitz...  \n",
       "3  [recent, report, elite, opinion, divide, prope...  \n",
       "4  [thomas, e., patterson.the, vanish, voter, pub...  "
      ]
     },
     "execution_count": 31,
     "metadata": {},
     "output_type": "execute_result"
    }
   ],
   "source": [
    "data_pr.head()"
   ]
  },
  {
   "cell_type": "code",
   "execution_count": 33,
   "metadata": {},
   "outputs": [],
   "source": [
    "from collections import Counter"
   ]
  },
  {
   "cell_type": "code",
   "execution_count": 39,
   "metadata": {},
   "outputs": [
    {
     "data": {
      "text/plain": [
       "[('1989', 5),\n",
       " ('1990', 1),\n",
       " ('1993', 1),\n",
       " ('1995', 46),\n",
       " ('1996', 56),\n",
       " ('1997', 44),\n",
       " ('1998', 43),\n",
       " ('1999', 40),\n",
       " ('2000', 41),\n",
       " ('2001', 43),\n",
       " ('2002', 43),\n",
       " ('2003', 42),\n",
       " ('2004', 36),\n",
       " ('2005', 46),\n",
       " ('2006', 40),\n",
       " ('2007', 45),\n",
       " ('2008', 44),\n",
       " ('2009', 50),\n",
       " ('2010', 45),\n",
       " ('2011', 54),\n",
       " ('2012', 67),\n",
       " ('2013', 12)]"
      ]
     },
     "execution_count": 39,
     "metadata": {},
     "output_type": "execute_result"
    }
   ],
   "source": [
    "c = Counter(data_pr['Year'])\n",
    "sorted(c.items(), key=lambda k: k[0])"
   ]
  },
  {
   "cell_type": "code",
   "execution_count": 44,
   "metadata": {},
   "outputs": [
    {
     "name": "stderr",
     "output_type": "stream",
     "text": [
      "/Users/chen.liang/anaconda3/envs/R_Python/lib/python3.7/site-packages/ipykernel_launcher.py:1: SettingWithCopyWarning: \n",
      "A value is trying to be set on a copy of a slice from a DataFrame.\n",
      "Try using .loc[row_indexer,col_indexer] = value instead\n",
      "\n",
      "See the caveats in the documentation: http://pandas.pydata.org/pandas-docs/stable/user_guide/indexing.html#returning-a-view-versus-a-copy\n",
      "  \"\"\"Entry point for launching an IPython kernel.\n"
     ]
    }
   ],
   "source": [
    "data_aei['Year'] = data_aei['date'].apply(lambda x: x[:4])"
   ]
  },
  {
   "cell_type": "code",
   "execution_count": 45,
   "metadata": {},
   "outputs": [
    {
     "data": {
      "text/plain": [
       "[('1966', 2),\n",
       " ('1968', 3),\n",
       " ('1969', 1),\n",
       " ('1970', 10),\n",
       " ('1972', 4),\n",
       " ('1973', 4),\n",
       " ('1974', 5),\n",
       " ('1975', 6),\n",
       " ('1976', 6),\n",
       " ('1977', 13),\n",
       " ('1978', 27),\n",
       " ('1979', 28),\n",
       " ('1980', 33),\n",
       " ('1981', 28),\n",
       " ('1982', 40),\n",
       " ('1983', 23),\n",
       " ('1984', 21),\n",
       " ('1985', 11),\n",
       " ('1986', 16),\n",
       " ('1987', 23),\n",
       " ('1988', 10),\n",
       " ('1989', 13),\n",
       " ('1990', 23),\n",
       " ('1991', 19),\n",
       " ('1992', 18),\n",
       " ('1993', 39),\n",
       " ('1994', 46),\n",
       " ('1995', 58),\n",
       " ('1996', 116),\n",
       " ('1997', 156),\n",
       " ('1998', 218),\n",
       " ('1999', 302),\n",
       " ('2000', 264),\n",
       " ('2001', 355),\n",
       " ('2002', 406),\n",
       " ('2003', 592),\n",
       " ('2004', 882),\n",
       " ('2005', 952),\n",
       " ('2006', 1198),\n",
       " ('2007', 2089),\n",
       " ('2008', 2109),\n",
       " ('2009', 2696),\n",
       " ('2010', 2881),\n",
       " ('2011', 3420),\n",
       " ('2012', 3733),\n",
       " ('2013', 3729),\n",
       " ('2014', 3274),\n",
       " ('2015', 2828),\n",
       " ('2016', 2776),\n",
       " ('2017', 2438),\n",
       " ('2018', 2301),\n",
       " ('2019', 2253),\n",
       " ('2020', 481)]"
      ]
     },
     "execution_count": 45,
     "metadata": {},
     "output_type": "execute_result"
    }
   ],
   "source": [
    "c = Counter(data_aei['Year'])\n",
    "sorted(c.items(), key=lambda k: k[0])"
   ]
  },
  {
   "cell_type": "code",
   "execution_count": 49,
   "metadata": {},
   "outputs": [
    {
     "data": {
      "text/plain": [
       "[('1977', 30),\n",
       " ('1978', 16),\n",
       " ('1979', 28),\n",
       " ('1980', 19),\n",
       " ('1981', 20),\n",
       " ('1982', 34),\n",
       " ('1983', 48),\n",
       " ('1984', 64),\n",
       " ('1985', 69),\n",
       " ('1986', 64),\n",
       " ('1987', 91),\n",
       " ('1988', 70),\n",
       " ('1989', 81),\n",
       " ('1990', 79),\n",
       " ('1991', 65),\n",
       " ('1992', 93),\n",
       " ('1993', 84),\n",
       " ('1994', 93),\n",
       " ('1995', 141),\n",
       " ('1996', 97),\n",
       " ('1997', 109),\n",
       " ('1998', 162),\n",
       " ('1999', 214),\n",
       " ('2000', 206),\n",
       " ('2001', 331),\n",
       " ('2002', 296),\n",
       " ('2003', 500),\n",
       " ('2004', 537),\n",
       " ('2005', 509),\n",
       " ('2006', 516),\n",
       " ('2007', 614),\n",
       " ('2008', 563),\n",
       " ('2009', 892),\n",
       " ('2010', 771),\n",
       " ('2011', 760),\n",
       " ('2012', 741),\n",
       " ('2013', 742),\n",
       " ('2014', 885),\n",
       " ('2015', 739),\n",
       " ('2016', 572),\n",
       " ('2017', 1294),\n",
       " ('2018', 1484),\n",
       " ('2019', 1472),\n",
       " ('2020', 100),\n",
       " ('nan', 360)]"
      ]
     },
     "execution_count": 49,
     "metadata": {},
     "output_type": "execute_result"
    }
   ],
   "source": [
    "data_hrg['Year'] = data_hrg['date'].apply(lambda x: str(x)[:4])\n",
    "c = Counter(data_hrg['Year'])\n",
    "sorted(c.items(), key=lambda k: k[0])"
   ]
  },
  {
   "cell_type": "code",
   "execution_count": 50,
   "metadata": {},
   "outputs": [
    {
     "data": {
      "text/plain": [
       "[('2008', 1010),\n",
       " ('2009', 2012),\n",
       " ('2010', 1940),\n",
       " ('2011', 1474),\n",
       " ('2012', 1478),\n",
       " ('2013', 1725),\n",
       " ('2014', 3893),\n",
       " ('2015', 4225),\n",
       " ('2016', 2596),\n",
       " ('2017', 2902),\n",
       " ('2018', 3432),\n",
       " ('2019', 3263),\n",
       " ('2020', 538)]"
      ]
     },
     "execution_count": 50,
     "metadata": {},
     "output_type": "execute_result"
    }
   ],
   "source": [
    "data_sig['Year'] = data_sig['date'].apply(lambda x: str(x)[:4])\n",
    "c = Counter(data_sig['Year'])\n",
    "sorted(c.items(), key=lambda k: k[0])"
   ]
  },
  {
   "cell_type": "code",
   "execution_count": null,
   "metadata": {},
   "outputs": [],
   "source": []
  }
 ],
 "metadata": {
  "kernelspec": {
   "display_name": "Python 3",
   "language": "python",
   "name": "python3"
  },
  "language_info": {
   "codemirror_mode": {
    "name": "ipython",
    "version": 3
   },
   "file_extension": ".py",
   "mimetype": "text/x-python",
   "name": "python",
   "nbconvert_exporter": "python",
   "pygments_lexer": "ipython3",
   "version": "3.7.0"
  }
 },
 "nbformat": 4,
 "nbformat_minor": 4
}
